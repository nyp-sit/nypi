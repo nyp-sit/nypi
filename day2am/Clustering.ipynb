{
  "cells": [
    {
      "cell_type": "markdown",
      "metadata": {
        "id": "view-in-github",
        "colab_type": "text"
      },
      "source": [
        "<a href=\"https://colab.research.google.com/github/nyp-sit/nypi/blob/main/day2am/Clustering.ipynb\" target=\"_parent\"><img src=\"https://colab.research.google.com/assets/colab-badge.svg\" alt=\"Open In Colab\"/></a>"
      ]
    },
    {
      "cell_type": "markdown",
      "source": [
        "<img src=\"https://www.nyp.edu.sg/content/dam/nyp/logo.png\" width='200'/>\n",
        "\n",
        "Welcome to the lab! Before we get started here are a few pointers on Collab notebooks.\n",
        "\n",
        "1. The notebook is composed of cells; cells can contain code which you can run, or they can hold text and/or images which are there for you to read.\n",
        "\n",
        "2. You can execute code cells by clicking the ```Run``` icon in the menu, or via the following keyboard shortcuts ```Shift-Enter``` (run and advance) or ```Ctrl-Enter``` (run and stay in the current cell).\n",
        "\n",
        "3. To interrupt cell execution, click the ```Stop``` button on the toolbar or navigate to the ```Kernel``` menu, and select ```Interrupt ```."
      ],
      "metadata": {
        "id": "bvTopuoXYY3n"
      }
    },
    {
      "cell_type": "markdown",
      "metadata": {
        "collapsed": true,
        "id": "lP4Z00lnVNam"
      },
      "source": [
        "# Practical: Clustering\n",
        "\n",
        "\n",
        "\n",
        "## Objectives\n",
        "\n",
        "- Learn to generate data points suitable for clustering practises using Scikit-Learn.\n",
        "- Learn to perform clustering of a set of data points using Scikit-Learn k-Means algorithm.\n",
        "- Examine how to identify a suitable number of clusters."
      ]
    },
    {
      "cell_type": "markdown",
      "metadata": {
        "id": "M8DUQH8bVNao"
      },
      "source": [
        "## Clustering\n",
        "\n",
        "Clustering algorithms partition data objects into several groups, subsets or categories. They help to discover groups of data samples with similar values or patterns. These techniques are used in many domains like:\n",
        "- Engineering - Information Compression, noise removal\n",
        "- Computer Science - Web mining, Information Retrieval\n",
        "- Life and Medical Science – Taxonomy definition, gene and protein function identification\n",
        "- Astronomy and Earth Science – Classification of stars and planets\n",
        "- Social Science – Behaviour pattern analysis, relation identification among cultures\n",
        "- Economics – Customer characteristics pattern recognition, stock trend analysis, fraud detection\n",
        "\n",
        "Clustering is sometimes performed before predictive modelling. After clustering, we can study and model each individual cluster separately or use the cluster grouping as an additional input for subsequent modelling processes.\n",
        "\n",
        "There are many different clustering algorithms, but only a few are widely used. This is because many hierarchical clustering methods require that distances between every pair of data points to be stored and updated in memory, which places a substantial demand on computer memory and processing resources if the data set is large. Typically, we use the k-Means clustering algorithm which is less demanding on the memory requirements.\n",
        "\n",
        "In the first part of the practical, we will look at how we can apply the k-Means clustering algorithm using Scikit-Learn."
      ]
    },
    {
      "cell_type": "markdown",
      "metadata": {
        "id": "XQ--PNJrVNap"
      },
      "source": [
        "## Generate Data\n",
        "\n",
        "Let us begin by generating some data for our practises.\n",
        "\n",
        "### Step 1\n",
        "Run the following codes to generate 500 data points centered around 3 centroids, that is, the 500 data points forms 3 clusters.\n",
        "\n"
      ]
    },
    {
      "cell_type": "code",
      "execution_count": null,
      "metadata": {
        "id": "ugPp086TVNap"
      },
      "outputs": [],
      "source": [
        "import numpy as np\n",
        "from sklearn.datasets import make_blobs\n",
        "\n",
        "#data = Generated data examples that forms 3 clusters\n",
        "#classes = The cluster that each example belongs to\n",
        "data, classes = make_blobs(500, centers=3, random_state=42)\n"
      ]
    },
    {
      "cell_type": "markdown",
      "metadata": {
        "id": "eLVay_zDVNaq"
      },
      "source": [
        "Note that the ```data``` variable contains the generated 2-D samples while the ```classes``` variable contains the cluster number each sample belongs to.\n",
        "\n"
      ]
    },
    {
      "cell_type": "markdown",
      "metadata": {
        "id": "o-RjDmOOVNaq"
      },
      "source": [
        "### Step 2\n",
        "\n",
        "Print out the first 10 items of the data and classes variables to see the generated data.\n",
        "\n",
        "<details>\n",
        "<summary>\n",
        "    Click here to see code\n",
        "</summary>\n",
        "\n",
        "\n",
        "```\n",
        "print(data[:10])\n",
        "print(classes[:10])\n",
        "```"
      ]
    },
    {
      "cell_type": "code",
      "execution_count": null,
      "metadata": {
        "id": "bqWhCXFBVNaq"
      },
      "outputs": [],
      "source": [
        "#Enter code here\n"
      ]
    },
    {
      "cell_type": "markdown",
      "metadata": {
        "id": "0QWTlzgjVNar"
      },
      "source": [
        "You should see the content of data and classes variables as follows:\n",
        "\n",
        "The ```data``` variable consists of an array of 2-dimensional points:\n",
        "\n",
        "```\n",
        "[[-5.73035386 -7.58328602]\n",
        " [ 1.94299219  1.91887482]\n",
        " [ 6.82968177  1.1648714 ]\n",
        " [-2.90130578  7.55077118]\n",
        " [ 5.84109276  1.56509431]\n",
        " [ 5.47021465  1.11708586]\n",
        " [-4.31954265 -6.97616949]\n",
        " [ 4.91033566  1.92293157]\n",
        " [ 3.57225841  1.8307902 ]\n",
        " [-7.50444577 -6.85401854]]\n",
        "\n",
        "```\n",
        "\n",
        "\n",
        "The ```classes``` variable contains the cluster number that each data point belongs to:\n",
        "\n",
        "```\n",
        "[2 1 1 0 1 1 2 1 1 2]\n",
        "```\n",
        "\n",
        "Note that we have the actual cluster that the data belongs to because we generated the data. In real-life situations, we will not have this information.\n",
        "\n",
        "Later, we will be using the k-Means clustering algorithm to cluster the data point, the ```classes``` variable will be  useful for us to compare and measure the clustering performance of the algoritm.\n"
      ]
    },
    {
      "cell_type": "markdown",
      "metadata": {
        "id": "_7wlGAHSVNar"
      },
      "source": [
        "### Step 3 Visualize the Data\n",
        "\n",
        "We should visualize the data so that we have a feel of how the data is like before we perform the clustering process.\n",
        "\n",
        "Run the following codes to generate a scatter plot of the data:\n",
        "\n"
      ]
    },
    {
      "cell_type": "code",
      "execution_count": null,
      "metadata": {
        "id": "ykfkBY7wVNar"
      },
      "outputs": [],
      "source": [
        "import matplotlib.pyplot as plt\n",
        "#Create a figure\n",
        "#plt.figure()\n",
        "#Red, green and blue will be used to colour the clusters\n",
        "rgb = np.array(['r', 'g', 'b'])\n",
        "#Create scatter plot based on the first (0) and second column (1)\n",
        "plt.scatter(data[:, 0], data[:, 1], color=rgb[classes])\n",
        "plt.title(\"Clusters\")\n",
        "plt.show()"
      ]
    },
    {
      "cell_type": "markdown",
      "metadata": {
        "id": "y3glDcuYVNas"
      },
      "source": [
        "The code uses three different colours to show the individual clusters. If you run the codes, you should be able to see the following figures:\n",
        "\n",
        "![Cluster.png](data:image/png;base64,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)\n",
        "\n",
        "Note that we set the random_state argument of the make_blob() function as 42 for reproducible result.  You can try to use different number to generate different clusters if you prefer. Whatever integer values you choose, you should be able to see three separate clusters."
      ]
    },
    {
      "cell_type": "markdown",
      "metadata": {
        "id": "eMGGQn2WVNas"
      },
      "source": [
        "## k-Means Clustering\n",
        "\n",
        "k-means clustering is a relatively quick method for exploring clusters in data. The user sets the number of clusters (hyper-parameter k) to be created, and the procedure selects k well-spaced data records as starting centroid. Each data record is then assigned to the nearest centroid of the k clusters. The cluster centroids (average value of the attributes used in the clustering) are updated to accommodate the new members. Additional data passes are made as needed. As the cluster centers shift, a data point may need to be moved to its new nearest centroid.\n",
        "\n",
        "For the hyper-parameter k, we usually do not know what is a good value for k. We typically need to run the clustering process several times to find a suitable value for k. We will explore this in the later section.\n",
        "\n",
        "Let us now use Scikit-Learn's k-Means algorithm to perform clustering and visually inspect how well the clustering was done."
      ]
    },
    {
      "cell_type": "markdown",
      "metadata": {
        "id": "xadJkq1LVNat"
      },
      "source": [
        "### Step 4 Performing k-Means Clustering\n",
        "\n",
        "Run the following codes to perform clustering:\n"
      ]
    },
    {
      "cell_type": "code",
      "execution_count": null,
      "metadata": {
        "id": "mwdUsCHaVNat"
      },
      "outputs": [],
      "source": [
        "import numpy as np\n",
        "from sklearn.datasets import make_blobs\n",
        "\n",
        "#data = Generated data examples that forms 3 clusters\n",
        "#classes = The cluster that each example belongs to\n",
        "#We use 1000 points\n",
        "data, classes = make_blobs(1000, centers=3, random_state=42)\n",
        "\n",
        "#Import the k-Means algorithm\n",
        "from sklearn.cluster import KMeans\n",
        "\n",
        "#Perform the clustering\n",
        "kmeans = KMeans(n_clusters=3).fit(data)"
      ]
    },
    {
      "cell_type": "markdown",
      "metadata": {
        "id": "pvjwCRiaVNat"
      },
      "source": [
        "### Step 5 Plotting Clustering Results\n",
        "\n",
        "It will be useful if we can visualize our clustering results, use the following codes to plot the clusters:\n",
        "\n"
      ]
    },
    {
      "cell_type": "code",
      "execution_count": null,
      "metadata": {
        "id": "E0kSRMZxVNat"
      },
      "outputs": [],
      "source": [
        "#Create a new plot\n",
        "plt.figure()\n",
        "\n",
        "#Subplot on the left\n",
        "#121 = 1 row, 2 columns, subplot plot 1\n",
        "plt.subplot(121) #Use subplot() to plot the generated data and results from k-Means clustering\n",
        "#Use different colours for different cluster based on the generated data.\n",
        "rgb = np.array(['r', 'g', 'b'])\n",
        "plt.scatter(data[:, 0], data[:, 1], color=rgb[classes])\n",
        "plt.title(\"Generated Data\")\n",
        "\n",
        "\n",
        "#Subplot on the right\n",
        "#122 = 1 row, 2 columns, subplot plot 2\n",
        "plt.subplot(122)\n",
        "#Plot the same data except use results from our k-mean clustering(kmeans.labels_)\n",
        "#Different colours for different cluster based kmeans.labels_\n",
        "plt.scatter(\n",
        "    data[:, 0],  #x\n",
        "    data[:, 1],  #y\n",
        "    color=rgb[kmeans.labels_])\n",
        "\n",
        "#Plot the centroid of the clusters\n",
        "plt.scatter(\n",
        "    kmeans.cluster_centers_[:, 0], #x\n",
        "    kmeans.cluster_centers_[:, 1], #y\n",
        "    marker=\"*\", # use a star\n",
        "    s=200, # size is 200 (bigger)\n",
        "    color=\"Yellow\",\n",
        "    label=\"Centroid\")\n",
        "plt.title(\"Clustered by k-Means\")\n",
        "plt.legend()\n",
        "plt.show()\n"
      ]
    },
    {
      "cell_type": "markdown",
      "metadata": {
        "id": "lJdd8S9JVNau"
      },
      "source": [
        "Run the codes to view the clustering results.\n",
        "\n",
        "\n",
        "As can be seen from the above plots, the k-Means algorithm has formed three clusters since we indicated ```center=3```.\n",
        "\n",
        "From visual inspection, we can see that the algorithm has done a good job of clustering the data points, the generated cluster membership closely resembles that in the ```classes``` variable. Choose the correct k value (k=3) certainly plays a part as it coincides with our generated data. However, in most real cases, we might not know the number of clusters and must make a guess, what happens if we try other values of k?\n"
      ]
    },
    {
      "cell_type": "markdown",
      "metadata": {
        "id": "ePa3tUcxVNau"
      },
      "source": [
        "## Exercise\n",
        "\n",
        "Modify the codes and try different values of k (e.g 2, 4, 5). Remember to add more colours to the rbg array if necessary.\n",
        "```python\n",
        "rgb = np.array(['r', 'g', 'b', 'y']) #if k=4, needs to have at least 4 colours\n",
        "```\n",
        "For reference, acceptable single character colours are:\n",
        "```python\n",
        "{'b', 'g', 'r', 'c', 'm', 'y', 'k', 'w'}\n",
        "```\n",
        "\n",
        "Shown below is the result for value of k=4:\n",
        "\n",
        "![kMeans_4.jpg](data:image/jpeg;base64,/9j/4AAQSkZJRgABAQEAYABgAAD/4RD0RXhpZgAATU0AKgAAAAgABAE7AAIAAAAOAAAISodpAAQAAAABAAAIWJydAAEAAAAcAAAQ0OocAAcAAAgMAAAAPgAAAAAc6gAAAAgAAAAAAAAAAAAAAAAAAAAAAAAAAAAAAAAAAAAAAAAAAAAAAAAAAAAAAAAAAAAAAAAAAAAAAAAAAAAAAAAAAAAAAAAAAAAAAAAAAAAAAAAAAAAAAAAAAAAAAAAAAAAAAAAAAAAAAAAAAAAAAAAAAAAAAAAAAAAAAAAAAAAAAAAAAAAAAAAAAAAAAAAAAAAAAAAAAAAAAAAAAAAAAAAAAAAAAAAAAAAAAAAAAAAAAAAAAAAAAAAAAAAAAAAAAAAAAAAAAAAAAAAAAAAAAAAAAAAAAAAAAAAAAAAAAAAAAAAAAAAAAAAAAAAAAAAAAAAAAAAAAAAAAAAAAAAAAAAAAAAAAAAAAAAAAAAAAAAAAAAAAAAAAAAAAAAAAAAAAAAAAAAAAAAAAAAAAAAAAAAAAAAAAAAAAAAAAAAAAAAAAAAAAAAAAAAAAAAAAAAAAAAAAAAAAAAAAAAAAAAAAAAAAAAAAAAAAAAAAAAAAAAAAAAAAAAAAAAAAAAAAAAAAAAAAAAAAAAAAAAAAAAAAAAAAAAAAAAAAAAAAAAAAAAAAAAAAAAAAAAAAAAAAAAAAAAAAAAAAAAAAAAAAAAAAAAAAAAAAAAAAAAAAAAAAAAAAAAAAAAAAAAAAAAAAAAAAAAAAAAAAAAAAAAAAAAAAAAAAAAAAAAAAAAAAAAAAAAAAAAAAAAAAAAAAAAAAAAAAAAAAAAAAAAAAAAAAAAAAAAAAAAAAAAAAAAAAAAAAAAAAAAAAAAAAAAAAAAAAAAAAAAAAAAAAAAAAAAAAAAAAAAAAAAAAAAAAAAAAAAAAAAAAAAAAAAAAAAAAAAAAAAAAAAAAAAAAAAAAAAAAAAAAAAAAAAAAAAAAAAAAAAAAAAAAAAAAAAAAAAAAAAAAAAAAAAAAAAAAAAAAAAAAAAAAAAAAAAAAAAAAAAAAAAAAAAAAAAAAAAAAAAAAAAAAAAAAAAAAAAAAAAAAAAAAAAAAAAAAAAAAAAAAAAAAAAAAAAAAAAAAAAAAAAAAAAAAAAAAAAAAAAAAAAAAAAAAAAAAAAAAAAAAAAAAAAAAAAAAAAAAAAAAAAAAAAAAAAAAAAAAAAAAAAAAAAAAAAAAAAAAAAAAAAAAAAAAAAAAAAAAAAAAAAAAAAAAAAAAAAAAAAAAAAAAAAAAAAAAAAAAAAAAAAAAAAAAAAAAAAAAAAAAAAAAAAAAAAAAAAAAAAAAAAAAAAAAAAAAAAAAAAAAAAAAAAAAAAAAAAAAAAAAAAAAAAAAAAAAAAAAAAAAAAAAAAAAAAAAAAAAAAAAAAAAAAAAAAAAAAAAAAAAAAAAAAAAAAAAAAAAAAAAAAAAAAAAAAAAAAAAAAAAAAAAAAAAAAAAAAAAAAAAAAAAAAAAAAAAAAAAAAAAAAAAAAAAAAAAAAAAAAAAAAAAAAAAAAAAAAAAAAAAAAAAAAAAAAAAAAAAAAAAAAAAAAAAAAAAAAAAAAAAAAAAAAAAAAAAAAAAAAAAAAAAAAAAAAAAAAAAAAAAAAAAAAAAAAAAAAAAAAAAAAAAAAAAAAAAAAAAAAAAAAAAAAAAAAAAAAAAAAAAAAAAAAAAAAAAAAAAAAAAAAAAAAAAAAAAAAAAAAAAAAAAAAAAAAAAAAAAAAAAAAAAAAAAAAAAAAAAAAAAAAAAAAAAAAAAAAAAAAAAAAAAAAAAAAAAAAAAAAAAAAAAAAAAAAAAAAAAAAAAAAAAAAAAAAAAAAAAAAAAAAAAAAAAAAAAAAAAAAAAAAAAAAAAAAAAAAAAAAAAAAAAAAAAAAAAAAAAAAAAAAAAAAAAAAAAAAAAAAAAAAAAAAAAAAAAAAAAAAAAAAAAAAAAAAAAAAAAAAAAAAAAAAAAAAAAAAAAAAAAAAAAAAAAAAAAAAAAAAAAAAAAAAAAAAAAAAAAAAAAAAAAAAAAAAAAAAAAAAAAAAAAAAAAAAAAAAAAAAAAAAAAAAAAAAAAAAAAAAAAAAAAAAAAAAAAAAAAAAAAAAAAAAAAAAAAAAAAAAAAAAAAAAAAAAAAAAAAAAAAAAAAAAAAAAAAAAAAAAAAAAAAAAAAAAAAAAAAAAAAAAAAAAAAAAAAAAAAAAAAAAAAAAAAAAAAAAAAAAAAAAAAAAAAAAAAAAAAAAAAAAAAAAAAAAAAAAAAAAAAAAAAAAAAAAAAAAAAAAAAAAAAAAAAAAAAAAAAAAAAAAAAAAAAAAAAAAAAAAAAAAAAAAAAAAAAAAAAAAAAAAAAAAAAAAAAAAAAAAAAAAAAAAAAAAAAAAAAAAAAAAAAAAAAAAAAAAAAAAAAAAAAAAAAAAAAAAAAAAAAAAAAAAAAAAAAAAAAAAAAAAAAAAAAAAAAAAAAAAAAAAAAAAAAAAAAAAAAAAAAAAAAAAAAAAAAAAAAAAAAAAAAAAAAAAAAAAAAAAAAAAAAAAAAAAAAAAAAAAAAAAAAAAAAAAAAAAAAAAAAAAAAAAAAAAAAAAAAAAAAAAAAAAAAAAAAAAAAAAAAAAAAAAAAAAAAAAAAAAAAAAAAAAAAAAAAAAAAAAAAAAAAAAAAAAAAAAAAAAAAAAAAAAAAAAAAAAAAAAAAAAAAAAAAAAAAAAAAAAAAAAAAAAAAAAAAAAAAAAAAAAAAAAAAAAAAAAAAAAAAAAAAAAAAAAAAAAAAAAAAAAAAAAAAAAAAAAAAAAAAAAAAAAAAAAAAAAAAAAAAAAAAAAAAAAAAAAAAAAAAAAAAAAAAAAAAAAAAAAAAAAAAAAAAAAAAENoZWUgWW9uZyBMYXcAAAWQAwACAAAAFAAAEKaQBAACAAAAFAAAELqSkQACAAAAAzc3AACSkgACAAAAAzc3AADqHAAHAAAIDAAACJoAAAAAHOoAAAAIAAAAAAAAAAAAAAAAAAAAAAAAAAAAAAAAAAAAAAAAAAAAAAAAAAAAAAAAAAAAAAAAAAAAAAAAAAAAAAAAAAAAAAAAAAAAAAAAAAAAAAAAAAAAAAAAAAAAAAAAAAAAAAAAAAAAAAAAAAAAAAAAAAAAAAAAAAAAAAAAAAAAAAAAAAAAAAAAAAAAAAAAAAAAAAAAAAAAAAAAAAAAAAAAAAAAAAAAAAAAAAAAAAAAAAAAAAAAAAAAAAAAAAAAAAAAAAAAAAAAAAAAAAAAAAAAAAAAAAAAAAAAAAAAAAAAAAAAAAAAAAAAAAAAAAAAAAAAAAAAAAAAAAAAAAAAAAAAAAAAAAAAAAAAAAAAAAAAAAAAAAAAAAAAAAAAAAAAAAAAAAAAAAAAAAAAAAAAAAAAAAAAAAAAAAAAAAAAAAAAAAAAAAAAAAAAAAAAAAAAAAAAAAAAAAAAAAAAAAAAAAAAAAAAAAAAAAAAAAAAAAAAAAAAAAAAAAAAAAAAAAAAAAAAAAAAAAAAAAAAAAAAAAAAAAAAAAAAAAAAAAAAAAAAAAAAAAAAAAAAAAAAAAAAAAAAAAAAAAAAAAAAAAAAAAAAAAAAAAAAAAAAAAAAAAAAAAAAAAAAAAAAAAAAAAAAAAAAAAAAAAAAAAAAAAAAAAAAAAAAAAAAAAAAAAAAAAAAAAAAAAAAAAAAAAAAAAAAAAAAAAAAAAAAAAAAAAAAAAAAAAAAAAAAAAAAAAAAAAAAAAAAAAAAAAAAAAAAAAAAAAAAAAAAAAAAAAAAAAAAAAAAAAAAAAAAAAAAAAAAAAAAAAAAAAAAAAAAAAAAAAAAAAAAAAAAAAAAAAAAAAAAAAAAAAAAAAAAAAAAAAAAAAAAAAAAAAAAAAAAAAAAAAAAAAAAAAAAAAAAAAAAAAAAAAAAAAAAAAAAAAAAAAAAAAAAAAAAAAAAAAAAAAAAAAAAAAAAAAAAAAAAAAAAAAAAAAAAAAAAAAAAAAAAAAAAAAAAAAAAAAAAAAAAAAAAAAAAAAAAAAAAAAAAAAAAAAAAAAAAAAAAAAAAAAAAAAAAAAAAAAAAAAAAAAAAAAAAAAAAAAAAAAAAAAAAAAAAAAAAAAAAAAAAAAAAAAAAAAAAAAAAAAAAAAAAAAAAAAAAAAAAAAAAAAAAAAAAAAAAAAAAAAAAAAAAAAAAAAAAAAAAAAAAAAAAAAAAAAAAAAAAAAAAAAAAAAAAAAAAAAAAAAAAAAAAAAAAAAAAAAAAAAAAAAAAAAAAAAAAAAAAAAAAAAAAAAAAAAAAAAAAAAAAAAAAAAAAAAAAAAAAAAAAAAAAAAAAAAAAAAAAAAAAAAAAAAAAAAAAAAAAAAAAAAAAAAAAAAAAAAAAAAAAAAAAAAAAAAAAAAAAAAAAAAAAAAAAAAAAAAAAAAAAAAAAAAAAAAAAAAAAAAAAAAAAAAAAAAAAAAAAAAAAAAAAAAAAAAAAAAAAAAAAAAAAAAAAAAAAAAAAAAAAAAAAAAAAAAAAAAAAAAAAAAAAAAAAAAAAAAAAAAAAAAAAAAAAAAAAAAAAAAAAAAAAAAAAAAAAAAAAAAAAAAAAAAAAAAAAAAAAAAAAAAAAAAAAAAAAAAAAAAAAAAAAAAAAAAAAAAAAAAAAAAAAAAAAAAAAAAAAAAAAAAAAAAAAAAAAAAAAAAAAAAAAAAAAAAAAAAAAAAAAAAAAAAAAAAAAAAAAAAAAAAAAAAAAAAAAAAAAAAAAAAAAAAAAAAAAAAAAAAAAAAAAAAAAAAAAAAAAAAAAAAAAAAAAAAAAAAAAAAAAAAAAAAAAAAAAAAAAAAAAAAAAAAAAAAAAAAAAAAAAAAAAAAAAAAAAAAAAAAAAAAAAAAAAAAAAAAAAAAAAAAAAAAAAAAAAAAAAAAAAAAAAAAAAAAAAAAAAAAAAAAAAAAAAAAAAAAAAAAAAAAAAAAAAAAAAAAAAAAAAAAAAAAAAAAAAAAAAAAAAAAAAAAAAAAAAAAAAAAAAAAAAAAAAAAAAAAAAAAAAAAAAAAAAAAAAAAAAAAAAAAAAAAAAAAAAAAAAAAAAAAAAAAAAAAAAAAAAAAAAAAAAAAAAAAAAAAAAAAAAAAAAAAAAAAAAAAAAAAAAAAAAAAAAAAAAAAAAAAAAAAAAAAAAAAAAAAAAAAAAAAAAAAAAAAAAAAAAAAAAAAAAAAAAAAAAAAAAAAAAAAAAAAAAAAAAAAAAAAAAAAAAAAAAAAAAAAAAAAAAAAAAAAAAAAAAAAAAAAAAAAAAAAAAAAAAAAAAAAAAAAAAAAAAAAAAAAAAAAAAAAAAAAAAAAAAAAAAAAAAAAAAAAAAAAAAAAAAAAAAAAAAAAAAAAAAAAAAAAAAAAAAAAAAAAAAAAAAAAAAAAAAAAAAAAAAAAAAAAAAAAAAAAAAAAAAAAAAAAAAAAAAAAAAAAAAAAAAAAAAAAAAAAAAAAAAAAAAAAAAAAAAAAAAAAAAAAAAAAAAAAAAAAAAAAAAAAAAAAAAAAAAAAAAAAAAAAAAAAAAAAAAAAAAAAAAAAAAAAAAAAAAAAAAAAAAAAAAAAAAAAAAAAAAAAAAAAAAAAAAAAAAAAAAAAAAAAAAAAAAAAAAAAAAAAAAAAAAAAAAAAAAAAAAAAAAAAAAAAAAAAAAAAAAAAAAAAAAAAAAAAAAAAAAAAAAAAAAAAAAAAAAAAAAAAAAAAAAAAAAAAAAAAAAAAAAAAAAAAAAAAAAAAAAAAAAAAAAAAAAAAAAAAAAAAAyMDIwOjA3OjI2IDEyOjMxOjUzADIwMjA6MDc6MjYgMTI6MzE6NTMAAABDAGgAZQBlACAAWQBvAG4AZwAgAEwAYQB3AAAA/+ELIGh0dHA6Ly9ucy5hZG9iZS5jb20veGFwLzEuMC8APD94cGFja2V0IGJlZ2luPSfvu78nIGlkPSdXNU0wTXBDZWhpSHpyZVN6TlRjemtjOWQnPz4NCjx4OnhtcG1ldGEgeG1sbnM6eD0iYWRvYmU6bnM6bWV0YS8iPjxyZGY6UkRGIHhtbG5zOnJkZj0iaHR0cDovL3d3dy53My5vcmcvMTk5OS8wMi8yMi1yZGYtc3ludGF4LW5zIyI+PHJkZjpEZXNjcmlwdGlvbiByZGY6YWJvdXQ9InV1aWQ6ZmFmNWJkZDUtYmEzZC0xMWRhLWFkMzEtZDMzZDc1MTgyZjFiIiB4bWxuczpkYz0iaHR0cDovL3B1cmwub3JnL2RjL2VsZW1lbnRzLzEuMS8iLz48cmRmOkRlc2NyaXB0aW9uIHJkZjphYm91dD0idXVpZDpmYWY1YmRkNS1iYTNkLTExZGEtYWQzMS1kMzNkNzUxODJmMWIiIHhtbG5zOnhtcD0iaHR0cDovL25zLmFkb2JlLmNvbS94YXAvMS4wLyI+PHhtcDpDcmVhdGVEYXRlPjIwMjAtMDctMjZUMTI6MzE6NTMuNzY1PC94bXA6Q3JlYXRlRGF0ZT48L3JkZjpEZXNjcmlwdGlvbj48cmRmOkRlc2NyaXB0aW9uIHJkZjphYm91dD0idXVpZDpmYWY1YmRkNS1iYTNkLTExZGEtYWQzMS1kMzNkNzUxODJmMWIiIHhtbG5zOmRjPSJodHRwOi8vcHVybC5vcmcvZGMvZWxlbWVudHMvMS4xLyI+PGRjOmNyZWF0b3I+PHJkZjpTZXEgeG1sbnM6cmRmPSJodHRwOi8vd3d3LnczLm9yZy8xOTk5LzAyLzIyLXJkZi1zeW50YXgtbnMjIj48cmRmOmxpPkNoZWUgWW9uZyBMYXc8L3JkZjpsaT48L3JkZjpTZXE+DQoJCQk8L2RjOmNyZWF0b3I+PC9yZGY6RGVzY3JpcHRpb24+PC9yZGY6UkRGPjwveDp4bXBtZXRhPg0KICAgICAgICAgICAgICAgICAgICAgICAgICAgICAgICAgICAgICAgICAgICAgICAgICAgICAgICAgICAgICAgICAgICAgICAgICAgICAgICAgICAgICAgICAgICAgICAgICAgIAogICAgICAgICAgICAgICAgICAgICAgICAgICAgICAgICAgICAgICAgICAgICAgICAgICAgICAgICAgICAgICAgICAgICAgICAgICAgICAgICAgICAgICAgICAgICAgICAgICAgCiAgICAgICAgICAgICAgICAgICAgICAgICAgICAgICAgICAgICAgICAgICAgICAgICAgICAgICAgICAgICAgICAgICAgICAgICAgICAgICAgICAgICAgICAgICAgICAgICAgICAKICAgICAgICAgICAgICAgICAgICAgICAgICAgICAgICAgICAgICAgICAgICAgICAgICAgICAgICAgICAgICAgICAgICAgICAgICAgICAgICAgICAgICAgICAgICAgICAgICAgIAogICAgICAgICAgICAgICAgICAgICAgICAgICAgICAgICAgICAgICAgICAgICAgICAgICAgICAgICAgICAgICAgICAgICAgICAgICAgICAgICAgICAgICAgICAgICAgICAgICAgCiAgICAgICAgICAgICAgICAgICAgICAgICAgICAgICAgICAgICAgICAgICAgICAgICAgICAgICAgICAgICAgICAgICAgICAgICAgICAgICAgICAgICAgICAgICAgICAgICAgICAKICAgICAgICAgICAgICAgICAgICAgICAgICAgICAgICAgICAgICAgICAgICAgICAgICAgICAgICAgICAgICAgICAgICAgICAgICAgICAgICAgICAgICAgICAgICAgICAgICAgIAogICAgICAgICAgICAgICAgICAgICAgICAgICAgICAgICAgICAgICAgICAgICAgICAgICAgICAgICAgICAgICAgICAgICAgICAgICAgICAgICAgICAgICAgICAgICAgICAgICAgCiAgICAgICAgICAgICAgICAgICAgICAgICAgICAgICAgICAgICAgICAgICAgICAgICAgICAgICAgICAgICAgICAgICAgICAgICAgICAgICAgICAgICAgICAgICAgICAgICAgICAKICAgICAgICAgICAgICAgICAgICAgICAgICAgICAgICAgICAgICAgICAgICAgICAgICAgICAgICAgICAgICAgICAgICAgICAgICAgICAgICAgICAgICAgICAgICAgICAgICAgIAogICAgICAgICAgICAgICAgICAgICAgICAgICAgICAgICAgICAgICAgICAgICAgICAgICAgICAgICAgICAgICAgICAgICAgICAgICAgICAgICAgICAgICAgICAgICAgICAgICAgCiAgICAgICAgICAgICAgICAgICAgICAgICAgICAgICAgICAgICAgICAgICAgICAgICAgICAgICAgICAgICAgICAgICAgICAgICAgICAgICAgICAgICAgICAgICAgICAgICAgICAKICAgICAgICAgICAgICAgICAgICAgICAgICAgICAgICAgICAgICAgICAgICAgICAgICAgICAgICAgICAgICAgICAgICAgICAgICAgICAgICAgICAgICAgICAgICAgICAgICAgIAogICAgICAgICAgICAgICAgICAgICAgICAgICAgICAgICAgICAgICAgICAgICAgICAgICAgICAgICAgICAgICAgICAgICAgICAgICAgICAgICAgICAgICAgICAgICAgICAgICAgCiAgICAgICAgICAgICAgICAgICAgICAgICAgICAgICAgICAgICAgICAgICAgICAgICAgICAgICAgICAgICAgICAgICAgICAgICAgICAgICAgICAgICAgICAgICAgICAgICAgICAKICAgICAgICAgICAgICAgICAgICAgICAgICAgICAgICAgICAgICAgICAgICAgICAgICAgICAgICAgICAgICAgICAgICAgICAgICAgICAgICAgICAgICAgICAgICAgICAgICAgIAogICAgICAgICAgICAgICAgICAgICAgICAgICAgICAgICAgICAgICAgICAgICAgICAgICAgICAgICAgICAgICAgICAgICAgICAgICAgICAgICAgICAgICAgICAgICAgICAgICAgCiAgICAgICAgICAgICAgICAgICAgICAgICAgICAgICAgICAgICAgICAgICAgICAgICAgICAgICAgICAgICAgICAgICAgICAgICAgICAgICAgICAgICAgICAgICAgICAgICAgICAKICAgICAgICAgICAgICAgICAgICAgICAgICAgICAgICAgICAgICAgICAgICAgICAgICAgICAgICAgICAgICAgICAgICAgICAgICAgICAgICAgICAgICAgICAgICAgICAgICAgIAogICAgICAgICAgICAgICAgICAgICAgICAgICAgICAgICAgICAgICAgICAgICAgICAgICAgICAgICAgICAgICAgICAgICAgICAgICAgICAgICAgICAgICAgICAgICAgICAgICAgCiAgICAgICAgICAgICAgICAgICAgICAgICAgICA8P3hwYWNrZXQgZW5kPSd3Jz8+/9sAQwAHBQUGBQQHBgUGCAcHCAoRCwoJCQoVDxAMERgVGhkYFRgXGx4nIRsdJR0XGCIuIiUoKSssKxogLzMvKjInKisq/9sAQwEHCAgKCQoUCwsUKhwYHCoqKioqKioqKioqKioqKioqKioqKioqKioqKioqKioqKioqKioqKioqKioqKioqKioq/8AAEQgBMwGwAwEiAAIRAQMRAf/EAB8AAAEFAQEBAQEBAAAAAAAAAAABAgMEBQYHCAkKC//EALUQAAIBAwMCBAMFBQQEAAABfQECAwAEEQUSITFBBhNRYQcicRQygZGhCCNCscEVUtHwJDNicoIJChYXGBkaJSYnKCkqNDU2Nzg5OkNERUZHSElKU1RVVldYWVpjZGVmZ2hpanN0dXZ3eHl6g4SFhoeIiYqSk5SVlpeYmZqio6Slpqeoqaqys7S1tre4ubrCw8TFxsfIycrS09TV1tfY2drh4uPk5ebn6Onq8fLz9PX29/j5+v/EAB8BAAMBAQEBAQEBAQEAAAAAAAABAgMEBQYHCAkKC//EALURAAIBAgQEAwQHBQQEAAECdwABAgMRBAUhMQYSQVEHYXETIjKBCBRCkaGxwQkjM1LwFWJy0QoWJDThJfEXGBkaJicoKSo1Njc4OTpDREVGR0hJSlNUVVZXWFlaY2RlZmdoaWpzdHV2d3h5eoKDhIWGh4iJipKTlJWWl5iZmqKjpKWmp6ipqrKztLW2t7i5usLDxMXGx8jJytLT1NXW19jZ2uLj5OXm5+jp6vLz9PX29/j5+v/aAAwDAQACEQMRAD8A+kaKKKACiiigAooooAKKKKACiiuKTxLr2tXOoT6HJpVhpdjcNbG41CN3MzqcNja6hRn1zQB2tFc7ceLIdOtbFLyF7zULqLf9n01RLkDqwyR8vvmoJ/iDo8cOnPDHd3T6lvFvFBDucsoyykZGCMYoA6miubXx1pL6PBfxJdSNcTNbx2iRZnMinDJtz1BBzzUU3xC0a30uK8lS7Bku/sZt/J/exy/3WXPFAHU0Vzd940t9Ot457vSNWSNo/MkYWwPkLkj5/m46Z4zxVGTx1IPHcOj2+m3N1YT2Ed2lzBFu++zfNksBswB2znNAHZUVzUHjvSp9RjtliuxDLMbeK9aLEEkgzlQ2evB7dqwvFHxDRLeKLQ/tcbHUYrX7b5AMMh3YdAxzzjPbt1oA9CorA8ba3e6B4YkvdLWBrozwQx/aFZkHmSqmSAQTjdnqKzk8Q67oviTTNM8UJYTw6rI0Nvd2MbxBJQjPtZWZuqq3Oe1AHYUVz0XjOyfWYdNns7+0kuGZLeW4hCxzsoLEKc9cAnnHSszwt48n1rTdQub7Rb6E2k0iKY7f5ZArABV+Y5fnpwKAO0orG0PxNaa5cXNtFBdWl1bY822u4wkig9DgE8Vs0AFFFFABRRRQAUUUUAFFFFABRXPeK/EdxozadY6Xbpc6nqlx9ntklJCKQrOztjnAVScd6yPEWpeLdF8I6ld31zp4lijVobiyhZNrFwCCrs+eCeaAO4orA/4S3T4bHVppzMf7FgE14QnbYX+XnngH0qObxtYpfJaW1lf3spjSWT7NCGEKsMgtkjHH1oA6OiuO03xzJceLNe0u+025htNMlVVvBFiNV8sMS7bu/bA6Yq9pvjjTNTuEhWC8t/Oiaa3e4h2LcIBklOeeOecUAdHRXIWPxJ0jUNIh1O3tNRNtchPsxa3ANwzfwoM8kd+lWv8AhPNJGlS3kiXUckVwLZ7Nov34lIyE256kEHr3oA6WiuN8IeJ7jxB4q8QwuZ47azeFYra4iCPCSgLA49+epqpN45fSfHuuWGoLeXVna21vLHHbQK3kA797seDjgevSgDvaKxLfxbpVzNdJHKwFrZpes7LhWicMQynv9w5/Cn3OsfavBl1q+nGSLNlJNCZFAYEKSDjn0zQBsUVy/hTxVFqtpYWbvJd37WoluZY0GyM/7RHAJ9BVPx54y1DwpqOipZW0E9vd3BF2ZQ26OIAlmXBHIAJ5z0oA7SiuHHjq5m+JsWhW8NudK8hmluWzv3hC2Ac4wMc8Vq6b440vVNQt7WGK7iW7yLW4mi2xXGBk7DnngE8gUAdHRXP23jKym1mLTZ7O/s5LgstvJcwhY5iBkhTk9qp2vxG0a7vEgjhvlja8ay+0vBiITBiu0tnuRxxQB1lFYFn4utNQ1iWws7O+mWKdrd7tYR5KyKcMu7OeCCOlb9ABRRRQAUUUUAFFFFABRRXG6NP4w1vS0v4tX0i3SWSQLE2mSOVCyMoyfOGenoKAOyornPsPjP8A6D2j/wDgpk/+P0fYfGf/AEHtH/8ABTJ/8foA6OuETw7rWiS6lY2Gl6brej39y9ysF7N5ZhZjkggowcZ6dK2PsPjP/oPaP/4KZP8A4/R9h8Z/9B7R/wDwUyf/AB+gDkF+GV5YWOiSJFHqU+n2RtJbdb6WzVgTuyrxnPB7EEVtaR4On0/VfD9zBZW9jBYm5eeBLl5iGlB5DvyxyeScVq/YfGf/AEHtH/8ABTJ/8fo+w+M/+g9o/wD4KZP/AI/QBy198Or+4U3LpFPNBq93eRW4u5IBLHM5IBkTBU4Pv+NW7TwRcxxac9vplvpzx6vHfXMf2+S6LBQBne4yTgDjit77D4z/AOg9o/8A4KZP/j9H2Hxn/wBB7R//AAUyf/H6AOe8a+ENe17V70wCO7s7i1EVuHv5bcWr85JSP/WZ9yKsWPhfWtKvtFuIYLa6EWiw6ZeKbgxmMoDl1O07vvHjjpWz9h8Z/wDQe0f/AMFMn/x+j7D4z/6D2j/+CmT/AOP0AcrpHw7m069htbnSIb22huWmS9bV7hcAsWH+j525GcZzj2ouPB3icaTBoFrHYNp9tqYvEu3mIkdPMLlCm3ggsecnp0rqvsPjP/oPaP8A+CmT/wCP0fYfGf8A0HtH/wDBTJ/8foAXxzpF9rnhaS00pIpLpbiCZEmk2K3lzI5BbBxkKe1ZraJ4g8R+JNL1DxBDaaba6TI88FtbzmdpJijIGZiq4ADtxjrjmtH7D4z/AOg9o/8A4KZP/j9H2Hxn/wBB7R//AAUyf/H6AOMtPAPiNte0a81AQvJp98Z7i8fUZZDcKVYcRH5E+8OmfrWofDXii38O6xoun/Z4Fmumuba8S5KtKrSKWiK7fkyoYbgTjPSt/wCw+M/+g9o//gpk/wDj9H2Hxn/0HtH/APBTJ/8AH6AMbwT4R1LRfFOoape28VrBdWyRpAt9LdMrAjJLydfwxXeVzn2Hxn/0HtH/APBTJ/8AH6PsPjP/AKD2j/8Agpk/+P0AdHRXOfYfGf8A0HtH/wDBTJ/8fo+w+M/+g9o//gpk/wDj9AHR0VyN3ceKtIvNNa+1PS7q3ub2O2kji0942w2eQxmbB49K66gAooooAKKp6xdyWGhX93BtMtvbSSpvGRuVSRn24rBsYfGd5p9vc/25o6+dEsm3+ypDjIBx/r/egCbxd4fvNVk0zUtHljj1PSbk3EAmB2SAoyMjY6ZVzz2OKoa1p/ijxN4Z1CwvbGwsGljURIl00u5gwJJbaMDAPGPxrQ+w+M/+g9o//gpk/wDj9H2Hxn/0HtH/APBTJ/8AH6AOc1/wn4laLxJaaJHYyw69ZCEy3ExUwOIih+UA7gc9cjHvRr/hHXLyOKLSrK1t7xLdIo9Wjv3jkhYDGTEFxIAegJro/sPjP/oPaP8A+CmT/wCP0fYfGf8A0HtH/wDBTJ/8foAy7nwrqc2reI7Zo4ZNM1+JRJcicrJAwiCHCbfmzjOciqPh3wPc2F1B9u0a3SW1t3ijvhq1xNuYrtysTkhAfqa6L7D4z/6D2j/+CmT/AOP0fYfGf/Qe0f8A8FMn/wAfoA52b4f3k3w/8MadIIpL/RIog8K3DxJKQgVgJEww6cH9KSPwPexWMd7p2lWun6nb6gl4sL6jLdLPtULh5HGQccZA4xXR/YfGf/Qe0f8A8FMn/wAfo+w+M/8AoPaP/wCCmT/4/QBU8JaLrVn4j17V9djtYTqbxNHDbyF/LCoFwSQM9OuKztS8P+J4PFuvX+kQWE9rrFnFajz5ijRFd4L8Kc/f6frW59h8Z/8AQe0f/wAFMn/x+j7D4z/6D2j/APgpk/8Aj9AHFeK/Dkln/wAIto+lXiG/lT+z7tR957Y4kd8dgDHtGf75r0jUdO83w1dabZBVL2j28QJwBlCorFOieKTei8Oq6CbkJsE/9ivv2+m7z849qn+w+M/+g9o//gpk/wDj9AGL4R8E33hi3/sv91NpN9CTdoJmWSGbGCUccsp+oI7GrmoeBoZdT0eOzQnTLb7QLlJ7h5XZZYWTALkk/e9avfYfGf8A0HtH/wDBTJ/8fo+w+M/+g9o//gpk/wDj9AGJb/Df7Be6dFbXLzWkcd0t1PM/712lQrkYGO9VvDHgK40i/wBPS90iCQWBzHqH9q3D5IGAwgYlVP4muk+w+M/+g9o//gpk/wDj9H2Hxn/0HtH/APBTJ/8AH6AOM03wF4kXXdFvNTEMk2n3PmXV62oyyG6HqIj8kf0GfrWwvgvU18IR6bm3+0Lrhvyd52+WbgydcdcHp61t/YfGf/Qe0f8A8FMn/wAfo+w+M/8AoPaP/wCCmT/4/QBjf8IzrJ8aRX9pZW+lwLeGWe4t752+1R5ztaAgKrHu2c5rvK5z7D4z/wCg9o//AIKZP/j9H2Hxn/0HtH/8FMn/AMfoA6Oiuc0W91tPFN5pWt3dldrHZRXMclratCQWeRSCC7Z+4PTrXR0AFFFFABRRRQAVz3gX/kTrX/rpP/6OeuhrnvAv/InWv/XSf/0c9AHQ0UUUAFFFFABRRRQAUUVna3r+m+HbH7Xq9ytvFnAJGSx9ABSbSV2XTpzqSUIK7fRHG/FHx/feDxaW2lwxtPcKXaSVSVVc4wPetT4b+MLjxj4de6voUiuIJTE5j+6/AOR6delOmtvCvxO0lX3i7jhYgMhKvGfTmt3RNC0/w9pq2OlQCGFTkjqWPqT61yxjUdbnUrxPcxFXBU8vWGlRca6erf8AXbpY0KKKK6zwAooooAKKKKACiiigAooooA5/xb/zBP8AsLwf+zV0Fc/4t/5gn/YXg/8AZq6CgAooooAzPEv/ACKmrf8AXlN/6Aal0T/kAaf/ANesf/oIqLxL/wAipq3/AF5Tf+gGpdE/5AGn/wDXrH/6CKAL1FFFABRRRQAUUUUAFFFYfiDxjonhh4o9YvVhklGVQKWJHrx2qZSUVeTsTKUYK8nZHnnj/wCLGq+H/FsulaVbwCO12+Y0yklyQG4wRgYNeleGdZ/4SDw1Zap5RiNzHuKHsQSD+orH1Dwf4V8cNb61JGLkOoKzQtjzAOxrqLW1hsrSK2tY1ihiUKiL0AFc9KNVVJSlK8XsctGFZVZSnK8XsS0UUV1HYFFFFABRRRQAUUUUAFFFFAHPwf8AJSr7/sEW3/o6eugrn4P+SlX3/YItv/R09dBQAUUUUAFFVr3U7DTvL/tC9t7TzW2x+fKqbz6DJ5NJLqlhBfR2U19bR3cozHbvMokcey5yelAFque8C/8AInWv/XSf/wBHPXQ1z3gX/kTrX/rpP/6OegDoaKKKACiiigAoqK6uoLK1kubuVYoYlLO7HAUCuK1X4naRL4b1K68OXi3V5axFljKMuP8AawQMgVnOpCHxM68NgsRin+6g2rpXtor930Om1rxLpHh+IPq19FblhlUY/M30Arwrxv46i+IL29jBbfYhBKxheWTiTP8Ae9Dx71xesa5qOv3pu9WunuZsYBY9B6CqHTpXhYjGyq+6vhP1fKOGKOAtWqPmqrr0Xp3+Zq6PrmreFtUM2nzPbzISHQ9D7EV7J8MfifNr11JpniKaJbo4Ns4GPM9VPuP614MzFmJYkk9STW34NNqvjDTWv7j7NbrMGeUnG3HNY4evOnNJPQ9HOMqw2Nw05VI++lulrpr/AEj6pudRsrJ0W8vILdn+4JZVUt9MnmrAIIBByD0Ir5Z8eeIm8R+M7y8hlc26v5cALcKo4yPqcn8a9u0rxTYeEfAGjN4l1BWnlh+UofML854x6AgV7NLGRqTknol1PzXH8O1cJh6M4tynP7KWq0v+HU7iiqGja3YeINNS+0q4E8DHG4AjB9CD0NX67U01dHzM4SpycJqzXRhRRRTICiiigAooooA5/wAW/wDME/7C8H/s1dBXP+Lf+YJ/2F4P/Zq6CgAoqquqWD6i2npfWzXqLva2EymRV9Suc4otNUsL+WWOxvra5khOJVhmVzGfRgDx070AVvEv/Iqat/15Tf8AoBqXRP8AkAaf/wBesf8A6CKi8S/8ipq3/XlN/wCgGpdE/wCQBp//AF6x/wDoIoAvUUUUAFFFFABRWfrWu6d4fsDeavdLbQA4yQSSfQAcmvPvHnxOjTwjDd+ELxZGuJjE8wUhocDPQ9DWNStCmm5PYwq4inSTcnt06nV+J/HuieF4JhdXSS3ca5FrGcuT6e3414N4s11vH2rNqUFv9mnihCm2Mm7cB3XgflXLXd3PfXctzeStNPKxd3c5LE96jVmRtyEqR3BxXhV8XKto9j5nE46eI91r3exu+HvGuueGFdNKuykb9Y3G5R9B2r3r4b+PIvF+keXdyRpqkBIliUY3L2ce3b8K+Zq7f4X6rYaFrd9qeoXPktb2bGKPp5rEjj+XH+FPCYicJqLeg8Dip06ii37p9HHUrEXn2Q3tuLn/AJ4mVd//AHznNWa+TLS8vNW8ZQ3Mc5juLi6DK7yY25bPU19Fat4/0Dw3cwWGr34+1FF37ELbeOpwK9Whi41E3LRI9vDY6NZSlLRI6miora5hvLWO4tZFlhlUMjqeCKlrtPR3CiiigAooooAKKKKAOfg/5KVff9gi2/8AR09dBXPwf8lKvv8AsEW3/o6eugoAKKKKAOM+KVzptt4OkfUp7WGTenkGd1Uk71ztz7elc1qt5ZXFz4gRJ4ZtVvNStpdKKOGaSHZFzGR1XImyRxXqksEM4AniSQDoHUHH50C2gDKwhjDIMKdgyv0oAiv4bue0ZLC7W0mJ4laISAf8BJFYvgBXXwRZLK/mOHmDOFxuPnPzjtXR1z3gX/kTrX/rpP8A+jnoA6GiiigAooooA5b4kWFxqXgDUoLNXeXy94VBktjnGO9eCeAngtPEjT6og+wJBItyJOAVKkFfqewr3z4jatqGi+CL280kH7QuBvUZKAnBP4Cvmu/13UtThWK/u5JkVtwDeteLj5RjWjLqj9N4To1a2X1aWnJJtXvqtFf9LalW8e3kvZns42it2cmNGbJVc8AnvUNFFeQfoaVlYKKKKBhXpmneCbvxx4B0yfSbpGubF5IZIZnxwSCMelebQwy3EyxQRtLI5wqIuST7Cu8+FNrrkHj23W2huIoYywuwykKq46N+OK6MPZz5ZK6eh42cSnDDutSmoyp+8r9dGrfM9h+HfhKfwf4bNneTLLcSyGR9h+VeOgrrKKK+mhBQiox2R+H4nEVMVWlWqv3pO7CiiirOcKKKKACiiigDn/Fv/ME/7C8H/s1dBXP+Lf8AmCf9heD/ANmroKAPO/FN/pcHxCtoYL2yi1GTSr1CnnIJDIRHsBGc5OOBTPCEtlceItCGkNGzW2jyx6p5X8ExaPaHx/FuEvXmvQmtbdpfNaCMyf3ygz+dOjhiiZjFGiFvvFVAzQBh+NLe+n8K6h9gvltAtrMZN0Ak8xdh45Ix9a0dE/5F/T/+vWP/ANAFReJf+RU1b/rym/8AQDUuif8AIA0//r1j/wDQRQBeooooAKKKKAPLvjpYXN14Zsri3jd47ecmXaM7QRjJry/wzPYWfhXXDrcPmwzRottHv2s0meo+nc16p8Z9f1bRtJs4tMdoIrhyJZV/9Brwi/1K81KZZL6dpnVQoLdgK8HGSjGu2tz5nMJxhiXJb2+WxWpVUu4VRkscAU2vRPh9Y+GNdnitLuzmTUoRvDByVkwevtXh4rELDUnUabS7HBhqDxFRU00m+5xes6NdaHfC1vlAdo1kGOhDDP8A9b8Kz6958f6X4dSzGr6/BLI0SiGMREgt1IH868MunhkupHtojDEzZRC2do+tcuW454ylzOLTW76X8jpzDBrCVeVP0728yNSVYEHBB4PpXrOs/C7UvFNxaazo13DLBeQRmQyvyjBQD+HFeVW1pc3jMtpbyzsq7mEaFsD1OO1exfAqPWUub8zLMul+WMeYCAZM8bc+2c/hX0GFjGcvZzWjJwUI1J+ymrp/oep+HNI/sHw5ZaX5nmm2iCF/U1p0UV9GkoqyPrYxUUkugUUUUxhRRRQAUUUUAc/B/wAlKvv+wRbf+jp66Cufg/5KVff9gi2/9HT10FABRRRQAUUUUAFc94F/5E61/wCuk/8A6OeuhrnvAv8AyJ1r/wBdJ/8A0c9AHQ0UUUAFFFFAHh+tfGfUY/Edxaw2UL6ekhjMUi/M46ZJryzUPP8At832qMxS7zuQrt2n0x2r6Wu/hn4ZvteOrXFjunZ/Mddx2M3qV6VpeIPCOjeJrYQ6taLIFOVdflYfiK8ipg69W/PL0P0PBcR5XgHBYei0mlzPrdfn17HydRXX/ETwXJ4R111iA+wTsWtvnyQvoe/HSuQAJOBzXkThKEnGW5+jYbE0sVRjWpO8WFFFFQdAqsVYFSQfUV9I/CGfULnwJHLqgYt5zLC7jlowBjnuM5rwTQtUuPDOrQaiLZZSUJRJR8rgnGfcZH6V778NPHT+MrC6S4tUt57MqCI/usrZx/I16eX8qqavXsfD8Ye2ng/dppwTTcr6rpax3FFFFe8fkwUUUUAFFFFABRRRQBz/AIt/5gn/AGF4P/Zq6Cuf8W/8wT/sLwf+zV0FABRRRQBmeJf+RU1b/rym/wDQDUuif8gDT/8Ar1j/APQRUXiX/kVNW/68pv8A0A1Lon/IA0//AK9Y/wD0EUAXqKKKACqWs6iuj6JeajIhdbWF5io6kKM4q7TJoY7iB4Z0DxyKVZWGQQe1J3toKV7aHzzqPxY1nxFaXemz2MEqXSlYVRMtGT0x6mvPGJLEt1r6h0b4b+HNC1c6lYWhE4JKb3LBM+gNO8SfDzQPEsnn3tntuApCyRNsyffHWvHngq9RXnK7PAqZdiKseacrs+Wq3fDPiV/DLXc9tAsl1NGEikbpH1yareItBu/DWtzaZqGwTRH+Bsgg8g/iMGswAnpXi1qMakXTqLTqjxoyqUKl1pJHUzeO9Q1DQLvS9Z/0xZvmilY/NG2f5VytFKoLMAoyScAVFKhTo3VNWuOpWqVbc7vYltpp4LlHtHdJQw2FDzmvrPwu15J4X099TTZdtCDKMY5//Vivm3wr4vuvBc10IbGCeSYoT5wzs256f99V9E+DPEq+K/DMGprF5TMSkiDoGHp+de9l3Km9dex7OU8ibXNq+hvUUUV7B74UUUUAFFFFABRRRQBz8H/JSr7/ALBFt/6OnroK5+D/AJKVff8AYItv/R09dBQAUUUUAFFFFABXPeBf+ROtf+uk/wD6OeuhrnvAv/InWv8A10n/APRz0AdDRRRQAUUUUAFFFFAHE/EP4fDxrDbvBcrbXVvkKzjKlfQ15x4p+EF3onhy2m0xZNRvA5+0mIHhe2F9K99orkq4SlVbbWrPoMBxBjsDGFOErwi72/S+588eGvg/q2t6TcXd8XsHAIgilTBkPqc9qg034OeJ726eK5hSzRDgySNwfp619HUVj/Z9GyPRfGOY802ra7aben/BPMbv4K6beaTp8D3ssdzaxeXJKg4k5J6H0ya7Dwn4P03wfpzWumKxaQgyzP8AekI6Z/wreorrhQpQlzRWp4OIzbHYml7GrUbje9vxCiiitjzAooooAKKKKACiiigDn/Fv/ME/7C8H/s1dBXP+Lf8AmCf9heD/ANmroKACiiigDM8S/wDIqat/15Tf+gGpdE/5AGn/APXrH/6CKi8S/wDIqat/15Tf+gGpdE/5AGn/APXrH/6CKAL1FFFABRRRQAUUUUAeZ+OvhK3irxEdVsr9LZ5QomWRSc4AGRj2FcB44+F9/od/brodncXlq8ShpEUsfM759M19F0VxVMHSqXezZ59bL6NW7tZvqfP0fwV1h/Cq34fGothhZHjavPBPr04pmgfBbXb+SOXVSljDv+ZXOWI78dq+hKKn6hRumR/ZeHunqeZal8EdGvtUW5ivJ7eLCh4kA5wMcfXFd/o+kWehaVDp+nR+XBCMKOpPuavUV1Qo06bbirXOynh6VKTlCNmwooorU3CiiigAooooAKKKKAOfg/5KVff9gi2/9HT10Fc/B/yUq+/7BFt/6OnroKACiiigArj/ABxY6lcXmm3Vol5NYWsc7XkNpqD2jNnZtOVILYw/HvXYVl6x4esddEYvzdYjBAWC7lhDA9QwRhuH1zQA221J5/DVre6NaPeeZGpjilm2sRjHLNnn69apeAGd/BFk0qeW5eYsmc7T5z8Z71vW1tDZ2sdtbRrHDEoREUcKBWH4F/5E61/66T/+jnoA6GiiigAooooAKKKKACiiigAooooAKKKKACoZ7u3tiouJ44yxwodgM1NXz/8AGXS9ZHit7+ZJZLDywIZBnant7GufEVnRhzJXOXFV3Qp86Vz6ABBGRyK8zvfjXpNn4ibT/scr2ySeW9yGGBzgnHpVLwr8WNF0rwPbxalcTz31rGEMZX5n9Oe/1rxrXLy11DXLu70+Bre3mkLpExyVB7ZrixGMtGLpvU87F5hywi6LV3ue9X3xo8PWOtNZNHPJChw9wgyAfYd60bf4r+EriyNz/aPljdt2SJtf8vSvmXOetAGelcqzGtfocSzWunsj7FsL+11Oyju7CZJ4JRlJEOQasV4f8LPiNp+i2Nr4fvoJlMkp/wBI3gopY8DHavcK9ihWjWhzLfqe/hsRGvTUlv1Of8W/8wT/ALC8H/s1dBXP+Lf+YJ/2F4P/AGaugrc6QrgWS80fxxcX+tpqD2d3qASymj1KTyYwYlAVoAduNyuckd676sZvCulyayNTmW5mnV/MVJbuV4kbGMiMtsBx6DuaAIfGlze2/hXUPsNgLsPaTCTMwj8tdh55HP0rR0T/AJF/T/8Ar1i/9AFReJf+RU1b/rym/wDQDUuif8gDT/8Ar1j/APQRQBeooooAKKKKACiiigAooooAKKKKACiiigAqub+0W6Fs1zEJz0jLjd+VWK+MPGth4m8O+PLi+1hriG5+1GSK7JPzc5BU/SveyXKI5pUnTdTlaWnn/XUyqVORXsfYup6hb6TpV1qF422C1iaWQgdFUZP8q8r8P/tDaDq+tPZ31nJp8G1mS4kcEcDPIqv4h+Ofg648HG0KXOote27QTQAbGAK7SSe3XivmVyDIxQELk4Gegr6PI+GY4ijU+vU5Re0Xt+H+ZjVrWa5WfUdt+0d4SkvJo7qC8ghQ4jlCb/M/AdK6WD4xeCJ/s23WolNyAVDcFPZvSvjWlAJPGfwr3avBuXS+Byj87/mjNYiZ+gCOsiK6EMrDII6EUteS/CL4r6X4gtrDwv8AZ5re8s7NIkkkcMJ9igE9OOletV+XY7BVsDXdGsrP813O2MlJXRz8H/JSr7/sEW3/AKOnroK5+D/kpV9/2CLb/wBHT10FcRQUUUUAFFFFABXPeBf+ROtf+uk//o566Gue8C/8ida/9dJ//Rz0AdDRRRQAUUUUAFFFFABRRRQAUUUUAFFFFABWN4t0H/hJvC95pPm+S06ja/oQwI/lWzVHW9R/sjQrzUBH5htoWkCepAqZpOLUtiKii4NS2PnDxP8ADy68I6U1zrF7b+e8gSCCI5LjuT6DFcdWr4h8Rah4m1aS+1SYySHhVHCoPQCsqvlajg5e4tD4qs6bn+7VkFPhleCZJYyA6HcpIB5+hplFZmRf0W6gs9ds7m9j82CKZWkTONwB5FfXVtcRXlrFc27b4pkDow7gjINfG1eo/Dn4maxBrWnaLqEsc2nvtt03qFMQ6A5/xr0cDiI0pOMup62W4qNGThPqeu+Lf+YJ/wBheD/2augrn/Fn/ME/7C9v/wCzV0Fe+fThRRRQBmeJf+RU1b/rym/9ANS6J/yANP8A+vWP/wBBFReJf+RU1b/rym/9ANS6J/yANP8A+vWP/wBBFAF6iiigAooooAKKKKACiiigAooooAKKKKACvPPi98Orn4gaFbR6dcJDeWkm9FkPyuCMEe31r0OuH+LXjO78EeB5b/TYg13NIIInYZERIPzEewBx74r0crliI42n9V+O+l9vmRO3K+bY+X/G/giTwPPZ2d9fQXF/KjNPDAciHBGAT71ztrYXd7u+yW8s23r5aE4ov7+61S/mvdQmae4mYvJI55YmtvwXrmvaFr0D+Hi5lmdUMJUlJcnow9Pev2vEVMXhsBKcXGVVK/vPli36pOy7aep5y5ZS8je/4VxP/wAKqOu/Zpv7R+0/6rB3eXnGMfrXEy219phP2i3kg8xSv7yPGQevWvsAa/pv2waWb23/ALR8vd9nzzn6fXtXzL44k8W6zeTan4kgkWKKQxqoGI4ueij096/KuBOM8yzjFVqOPjGEXLmjzSalafwxgmveSs9bndisPCnFOH9epofBLVbLSvijp76gDtmDQxt/dduAa+wa+ArW5ms7uK5tnKTRMGRh1BFfTPwZ+I/iXxNqEun+KIvMVozJBdeVsJ9QccH24r6PjHLJTksbGSslZpuz+Xcxw8/snokH/JSr7/sEW3/o6eugrn4P+SlX3/YItv8A0dPXQV+anYFFFFABRRRQAVz3gX/kTrX/AK6T/wDo566Gue8C/wDInWv/AF0n/wDRz0AdDRRRQAUUUUAFFFFABRRRQAUUUUAFFFFABTZYknheKZA8bqVZWHBB6inUjHapJ6AZoA+XfiRoCeHfG13a28ax20hEsKLnCqe3NcpXU/EHxTJ4q8TSXD26QJATEgGdxAPc1y1fKVuX2j5Nj4ivye1lybXCiiisjAKchIkUqdpzwfSk69K9g+H3wks9V0W21fX2uFeRyyW4AX5QeM59etbUaM60uWJ0UKE68+WB3d0XPhfwgZZDK5u7Is5/iOzrXZVzniiNIYdBiiUKiarbqqjoAM4FdHX1MVZWPtYqySCiiimMzPEv/Iqat/15Tf8AoBqXRP8AkAaf/wBesf8A6CKi8S/8ipq3/XlN/wCgGpdE/wCQBp//AF6x/wDoIoAvUUUUAFFFFABRRRQAUUUUAFFFFABRRRQAVna9odj4j0W40zVIEngmXBV+x7H8DWjVe/uhZWE1yV3eWpOPWj2ro/vU7cut+1gtfQ+cNN+FWm6ZIy6xG011HKSyb/kXB4HvXYWenwW8qtY2kUci42mOMAjH0q5e3TX17LcyKqtI24helMhnkt5RJCxVh3Ffl+c57mGa151MRWlJXdk27JPol0O2nShTVkjlbr4VTahNrWr288kV/IRJZuXYNG+csc+/StmfQ2udCWw1oSXQZAssrjBkbufavQ4bxFihW6kRJnUZX3rmtaubiS+kimb5Eb5VHTHY1x1eJs1x6p068/4dnF9VZKKs9+l/W73KVGEbtLc4aD4eeHoZZH+ys4kIO1m4GOwrs9FTy9UtUgIiw4A2joKrIjSOEQFmY4AArvtG8KW1l5F1OzvcBQ208Kpr1aFTNM7rxlXqymoNaybdttvOy/AhqFJaKw6D/kpV9/2CLb/0dPXQVz8H/JSr7/sEW3/o6eugr9HOMKKKKACuT8T3N/ca/aaVY6hNp6fY57p5YQu52XaFXkEY5Ofw6V1lZGueG7XXngknnubaaFXRZbVwrFHxuU5B4OBQBBpGt3M/g+01KWznvbhkw8dsF3OQSpYBmA7Z696i8AOZPBNk5RoyzzEo+Mr++fg471uWVnDp9jDaWq7IYUCIPYVi+Bf+ROtf+uk//o56AOhooooAKKKKACiiigAooooAKKKKACiiigAooooA8I+M/hrQ9EktrvT0aG+vJCzxD7hUDk+xzivKK+p/GvgWw8a2cMd3K9vNASYpkGcZ6gjuK4LV/gRFFpMjaPqDzXqgFEmXarevIzivExODqSqOUFofOYzAVZVXOnHQ8VrZ0/wnreq6RJqWn2ElxbRNtZk5OfYdTXp/gX4OupuJvGNqm1l2xQq+WBz97I4rnLr4m6t4d1aaw8PW1tY6fayMkds0ZPAPVuetcv1dU4qVbRP7zjWFVKKniNE/vOs+EPgNrW3uNT8QacokkIFulwmSB64P9a9cVQqhVAAAwAB0rA8EeJH8VeFbbVJYRDK+VdR0yDgkflXQV72HhCFNKGx9NhadOnSSp7HP+Lf+YJ/2F4P/AGaugrn/ABb/AMwT/sLwf+zV0FbnSFefTaxqovrjWF1CYQQautiLABfLaLYuSeM79zZznGB0716DWA/g7T31s6iZbobpxctaiQeS0oXbvK4znHHXFAB40v5LLwrqHl6fdXnmWsyn7OEPl/IeW3MOPpmtHRP+Rf0//r1j/wDQBUXiX/kVNW/68pv/AEA1Lon/ACANP/69Y/8A0EUAXqKKKACiiigAooooAKKKKACiiigAooooAKbJGk0TRyKGRhhge4p1FJpNWYHmniWxtdP1Uw2e4DbllPY+1ZFej6v4YttWuhcNK0T4w2BncKxNS8EyRRK2muZmz8ytwfwr86zDJMWq1SpSh7t9LdvQ7IVY2SbOVeV5H3yMWb1Jq9JpOpSwxXLQSSLKBtYcnHauktPDMGn6LLc6nAs08amTYD6DpWXb+MNRhlXIiMQOPLC4wPQVx/2bRwqj9dk4uS0SWq9f8kVzuXwnT+HNGSw0yI3MCC5bJYkZI54rbqO3mFxbRzKCBIgYA9sipK/ScLRp0KMadLZI4pNt3Zz8H/JSr7/sEW3/AKOnroK5+D/kpV9/2CLb/wBHT10FdIgooooAKKKKACue8C/8ida/9dJ//Rz10Nc94F/5E61/66T/APo56AOhooooAKKKKACiiigAooooAKKKKACiiigAooooAKKKKACuS1z4ZeGdfvmvLy0eOdzudoX27z78V1tFROEZq0lcidOFRWmrlTTNMtNH06Kx06EQ28QwqCrdFFUkkrIpJJWRz/i3/mCf9heD/wBmroK5/wAW/wDME/7C8H/s1dBTGFFFFAGZ4l/5FTVv+vKb/wBANS6J/wAgDT/+vWP/ANBFReJf+RU1b/rym/8AQDUuif8AIA0//r1j/wDQRQBeooooAKKKKACiiigAooooAKKKKACiiigAooooAKKKKAEZQylWGQeCDWO3hTSmuBN5JGDnYG+X8q2aKwrYejXt7WKdu6Gm1sIAFUBRgAYApaKK3Ec/B/yUq+/7BFt/6OnroK5+D/kpV9/2CLb/ANHT10FABRRRQAUUUUAFc94F/wCROtf+uk//AKOeuhrnvAv/ACJ1r/10n/8ARz0AWdZ8W6D4emih1rVbazkmOESWQAn3x2HvWrDNFcQpNBIssbjcrochh6g18+/GX4W+KvEHjj+1NGt2v7a4RUADgGIjtgnge9exeANCvPDfgfTdL1KTzLmCLD4OQp9Aa9zGYHCUcFSr0q3NOW8e366bamcZScmmi/4g8SaT4W0ttQ128S0tlO3c2SWPoAOSfYVH4b8VaL4t083vh++S7hU7WIBVlPupwR+Ir58+Pfj3TvEd8mg6espfTZz5kxPyOcEYH59awvhH8Sbf4f6rNBqFu0tpeOqyyo/+qH97HevapcLVKmV/WUn7V6qOlrf5213+Rk66U7dD64orxzxP+0Hp+geLZNKg0yS6gt5PLnnDYOe+0d69U0jW9O12xS60u7iuY3UN+7cErkZ5HY18zictxeFpxq1oNRls/wCtvmbRnGTsmX6KKK88sKKKKACiiigAooooAKKKKACiiigAooooA5/xb/zBP+wvB/7NXQVz/i3/AJgn/YXg/wDZq6CgAooooAzPEv8AyKmrf9eU3/oBqXRP+QBp/wD16x/+giovEv8AyKmrf9eU3/oBqXRP+QBp/wD16x/+gigCvL4o0SHVhpsuqWyXhOPKMgzn0+vtWtXz5qnwq8UzeMJfKjMkMs+9bvzBgKTnPXqPSvezImn6YZLqTEdtDukc9gq8n9K5aFWpNy542se7mmX4TCxpPC1faOS1Xb7u/bczdf8AF+h+GPL/ALavlt2l+4oVnY++FBOK0rG/ttSso7uxmWeCUZR0OQa+Z/iD4ltvF/idr6ySSONU8sCUjnHcV2fwm+INrp1rF4ev4jGgLulxu4z1wRXPTxylWcHt0Z7OK4WqUctjiIXdTeUdNF5enzPbaK8v0r412GoeJEsJrJre1lfYlwzDj3b0FemQXEN1CJbaVJo26PGwYH8RXbTrQq/A7nzGMy7FYFpYiHLckooorU4AooooAKKKKACiiigAooooAKKKKACiiigDn4P+SlX3/YItv/R09dBXPwf8lKvv+wRbf+jp66CgAooooAK5D/hL7h/HtxoCTaTAsOzCXE7LPMGGTsXocVrX/hDw7ql693qOi2V1cSY3yywhmbAwMn6Cs3VvDF9qHladbrptppEUsboY0YTIF5wOw5/SgDor/UbLSrRrrU7uG0t1ODLPIEUH6msXwBLHP4JspYXWSN3mZXU5DAzPgg10RUMMMAR6EVx2ia3Z+Gvhf/a2otstrUzs2O/75wAPqSBVQhKpJQirt6INjsq87+J3xYsfAliIbIwXurO4X7L5gzEP7zAcivO/Ev7R39o+H7y00KwuLC9kwsVyWB2Lnk/XFeF3d5cX93JdXszzzytueSRssx9Sa++ybhOrOp7XHq0V9nv626HJUrpK0TT1PWbXWvFEuqX1mYYp5fMmhgbqe+M9M1m3s8dzfSzQwrBG7ErGvRR6VBRX6bClGFlHorHHe5JcXEt3cPPcu0krnLOxyWPqa9M+AV3ND8TbdBerBC8bK8ckmPNJHCgHqc15fVnTr2403Ure8s3KTwSB42HYg8VzY7DfWcLPDrTmTQ4y5ZJn3zRWd4e1CfVfDWm6hdxeRPdWsc0kWPuMygkfhmtGv59nFwk4vdHrbhRRRUgFFFFABRRRQAUUUUAFFFFABRRRQBz/AIt/5gn/AGF4P/Zq6Cuf8W/8wT/sLwf+zVvuiyRsjqGVhgg9xQBHdTeRaTTAAmONmAPfAzXNeCvFNx4ot5Z5Z9KdV6w2U7PJEckYcHp0q3H4J8N2souLHQtPiuUyY5BABtb1zUOmaDqX/CTjWdXeyR4rZreOOyVgGDMCS27uMDH1NAE3jTV9O0vwrqA1K+t7Qz2syRedKE3tsPAz1NaOif8AIv6f/wBesf8A6AKh8TKreFNW3KDiymxkf7BrF1bxhY+DfBOm3l6rSvJBEkUKH5nOwfpUykoLmlsbUKFTEVFSpK8nsjrq8r+IfxVtdNd9I0mODUBLGyXLb8qoIwV471yfjP4v3Wv6ZFaaKk+nBs/aCH5cegI7V5mSWJJOSepNeRicfdctL7z9EyPhRxar49ekf1bX4Fy1uLOKaaW4tmkyp8qMNhQT3J9utVoppIJhLC5R1OQynBFMo6da8i5+iciu/MMnOe9ez/AaeU/2nFJdqY8KUty/zA92x6Y4rxiuk8AardaR41sJrJDI7yCNkA+8rcEVvhqns6qkzyc7wjxeX1KUd7X+7U+qKKKK+pPwcKKKKACiiigAooooAKKKKACiiigAooooA5+D/kpV9/2CLb/0dPXQVz8H/JSr7/sEW3/o6eugoAKKKKACiiigArxrxl4X1bxX8ErS00NWlmhvJZmgU8yKJJRgep5HFey1wKSanF8F7t9B3f2gsdwYdvUHznzj3xmu7L606OLp1Kdrprfb5kzScWmfLeueCdZ8NaTBe65bmzNxKY4oJeJDgZJx2A4/Oufq5f32oXM0i6lcTyybyXEzknd3PPeqdfvtFVVD96035aL9Tyna+gUUUVsIK6j4e6xomh+Lra88Sad9vtVOAh5CN2bB64rl6KyrUo1qUqUtmraaMadnc+/ba4iu7WK4tnDwyoHRl6FSMg1LXCfBaaWb4S6M085nYIyhj/CoYgL+A4/Cu7r+fMXQ+r4idG9+Vtfcz1ou6TCiiiuYYUUUUAFFFFABRRRQAUUUUAFFFFAHP+Lf+YJ/2F4P/Zq6Cuf8W/8AME/7C8H/ALNXQUAFFFFAGZ4l/wCRU1b/AK8pv/QDXlXxJ8I63rml6Fe6VBJeQxWSI0UfJQlV5x7/ANK9V8S/8ipq3/XlN/6Aa4n4iT6tb/CqwbRmlQGOEXDRZ3CPy/btnFc2KjGVF8x7eQ1qtHMabpNJt2121PDtc0G88PXcVrqShJ3iEpjB5UHpn3rNqSaeWdgZ5GkYDALHJA9Kjr5iVr6H7lSU1BKo7vrbQ7bw38OtR1K4sr1jby2DSK0hSUH5c8itnxr8Or+71+51DTRBHaOA7GSQLg45NZ/w21u28PWuo6hqN4UgUBEtw333POQtaHjXxZZ+K/Bgm0+5a3khlHnWrNgsDx07jNfL1KmOWPVn7q929tNde+/mfJVquZLM0ov3F7t+V21s9r77K+x5lKnlSsm5W2nGVOQfoa9D+D+s6LpviJbfUrMNe3LhLe6PIj9vbJ7151UtqzJeQsjFWDjBHbmvq6NR05qXY+kx2EjjMLOhNtXW6/r8D7HoqCyLNYW5d/MYxKS/94461PX1p/PklZ2CiiigQUUUUAFFFFABRRRQAUUUUAFFFFAHPwf8lKvv+wRbf+jp66Cufg/5KVff9gi2/wDR09dBQAUUUUAFFFFABXN+Cw7eB4BE22QtcBSex818V0lc94F/5E61/wCuk/8A6OejYD5H8ZeF/EOm+IdRm1u0nTMzO1xIDtYE8HNctX2t8SPBS+PPCMmlCf7PMsizQyEZAYZHI9ME18q+MPht4i8FTH+1LNmtd21LqIZjb8e3Sv2fIc+o4+kqdRqNRaW7+n+R51Wk4u62OToqSKCWZ9kSMzYzgDmtvS/AvijWrd59M0O8uIkOGZYzx+dfS1K1Okr1JJLzdjFJvYxIIvPuEi3pHuONznAH1NX9b0K50bUpbdv38I+aK4jU7JUPIcH0I5rr9M+B/jnUoTIdK+yYbbtuX2E++PSvozw98Pray+GcPhfWSLo/Z2illxyu7rtPbGeK+bzPiPC4JxdOanrZpPbz+XbqbQoylvocP8Hfixo1zaaT4P8AsMlnPFAsSSlgVmkA54A4ycn8a9sryHwR8BbTwn4sTWbnU2vRbtutotm3aexY9yPwr16vzPPJ4Cpi+fAttPV3vu999TspcyjaQUUUV4ZqFFFFABRRRQAUUUUAFFFFABRRRQBz/i3/AJgn/YXg/wDZq6Cuf8W/8wT/ALC8H/s1dBQAUUUUAZniX/kVNW/68pv/AEA1l6pa3178MWt9JYrdyafGI8dT8oyPxGR+NaniX/kVNW/68pv/AEA1Lon/ACANP/69Y/8A0EVMlzJo1o1HSqRqLo0/uPk6/wBJvtMkK6lbSW7EkASLjJHWqVfR/wAS/h9P4zjtZ7C4WK6tQwCP91wf5HivA9b8Oar4euvI1azkgYn5WI4b3Br5rEYaVGXl3P23J86oZlRTulU6x/rczKKkjt5pv9VGz84wozW1beBvE15bJcW2i3ckUn3WCda54xlLZHs1K9GlrUkl6tIztI04apqEdqbiK33nG+VsCozbz6fegXdvJG0Mnzq645B6V2+k/B7xRdzW0lzBHaROwLGRvmQZ7j1r2jxT4LsvE/h/+zpmMUqhdlwFBbI9T3rtpYOpODdrNfifMY7iXCYXEQgpKcZaO32fPTe/byKfgf4haf4zE0NtbPaTW4BMTEHK+xFdhXEeAPhxD4Kaed7s3d1MNpcLtVV9hXb17lD2ns17Tc/Lc0WDWKl9S/h9L/jvqBOOtJvX+8PzqG6G4RKejSAEeo5pxtrcDJhiA/3BWraSuzzSTev94fnRvX+8PzqlcG3ieMLFEdx5+QdKsCC1bpFEf+AiuSljaFWrOjCWsbX+auU4tK5LvX+8Pzo3r/eH51H9lt/+eEf/AHwKxNR1/TNP1BrFNPuL24jQPKlnbCTylPQt6ZrsJN/ev94fnRvX+8PzqnBJp9wF8sQb2Xd5ZChgPcVFd3+kWVhc3k8lr5NrE0srLtO1QMk0AaO9f7w/Ojev94fnVKG40ueGOWJ7UpIMocrzSTT6fFbTTKkMwgUs6RBWYfhQBe3r/eH50BgehB/GsvVNT0nSIBJeCIbmVQiqpbJ6cVcmhjiaJokVD5gGVGOKAMiD/kpV9/2CLb/0dPXQVz8H/JSr7/sEW3/o6eugoAKKKx9Q8K6Vql491eLdmVwAfKv54l4GPuo4A/KgCO68QXFp4tstIk07/R7xHaO784feXGRsx/tDnNUh40J1jyP7Ob+zjefYRfecOZtu7GzH3eoznqOlQ6rpesx+JtEk0fTYJtP01JFaSe/YSHftHQqxONvc85qsPC+rjUhY7Lf+yV1P+0BceafMxt5j2Y/vEndnpxigDtZZooIy88iRIOrOwA/M1g+A2DeDLRlIIMkxBB6/vnrburS2voDBe28VxETkxzIHU/gaw/ASJF4Ks0jVURXmCqowAPOfjFAHRV4b8fvHutaBdWWjaUI4be4jMksksCSiXBHy4cEY/D0r3KsTxL4P0Lxdapb+INPju1jOY2JKsh9iCD+FeplOKw+Exca2JhzRXT9dexFSLlGyPjzw/wCG/EnjLVxNo1nJNL5y75olEaxEnrxgLjrxX0B8W/iRq/w807SdN0mOJru4h3SXEiZC7eOB0zmvSfD3hnSPCunfYdBsktICdzBSSWPqSeTVbxT4L0PxlaRwa/ZC4ERzG4YqyH2Ir6DF8QYbHY6nLEUr0YXsuruuvT5GUaUoxdnqc/8ACLx7d+PfC8t1qUCRXVrL5TtGCFfjIIFd9WZ4f8O6X4X0tNP0S0W2t1OdoJJJ9STya06+WxtShVxM54ePLBvRdjaKaVmFFFFchQUUUUAFFFFABRRRQAUUUUAFFFFABRRRQBz/AIt/5gn/AGF4P/Zq6Cuf8W/8wT/sLwf+zU+Xwbo8129zIl75juXONRuFGc5+6JMD6YxQA208SzSeKL/SL3TvsqWtstylx5wbzUJYZ24G37h7moNH8YPqeqW9tcaa1pBepLJZTmYN5wjYK2VwNp5BHJyKqf2Xrcnjy6upNOt10uexSyEwvSZAFLnds2f7eMZ7daZoXh3WIdW0waolvHaaPFPHBJFKWa43spUlcDbhVxjJyT2oA3fFVxDB4U1Tz5o491nMF3sBk7DwM1Z0T/kX9P8A+vWP/wBBFU/F1hZ3vhXUje2sFx5VpM0fmxh9h2HkZ6Grmif8i/p//XrH/wCgigC9Xz98UfG+ryeKbzSV8qK0tiY1R4EctxjcCwJB9xX0DWBrngfw94juludW05Jp1GPMDMpI9DgjNcuJpTqw5YOx7uR47C4HFe1xNPmVtNnZ97M8P+GXhfW7zxVp2p28EkVlHKHknYfKyjqv4jj8a7D4g/FTV/D/AIqbTNKihSK3wXaRMmQ+n0r1mzs7fT7OO1solhgiXaiKOAKw9d8CeH/Ed8l5qtiJZ1ABdWKlh6HBrBYWdOlyUpanqzz7C4zMPrGOpXgk0kteu77l3wxrJ8QeG7LU2i8priIMydge+PatWora2hs7WO3tY1ihiUKiKOFA7VLXfFNJJ7nyVaUJVJSpq0W3ZdkFFFFUZENz1h/66j+RqV0WRSrjINRzozqpTG5GDAHvSeZcf88F/wC/n/1qmUYzi4yV0wMqWE+c4hBZVPWtCwijEIkAy56k9qepmQYW2QA/9NP/AK1CmdM7bdBk54k/+tXymW8N08Di/rLad76W0Tb05fTY3nWco8pYrkA974c8UarcHSrzULfUfLkiktEDlWUEFWBIwOeDXU+Zcf8APBf+/n/1qPMuP+eC/wDfz/61fWmB5hoXhm/XxELvVY9YW+E8sokSGDyWVlOA0gTzCMHG0nGahTwLdp4UsrO20kRXE+iT213lB80pQ7Q57ndivVfMuP8Angv/AH8/+tR5lx/zwX/v5/8AWoA8/wBP8MpfaxZzpoJsIYNJeKNZrdUWOfzOu0cZ75/GsU+GdTl8M3FtY6FcWVzHorW13kAG8nxjIOfnOedx5NeteZcf88F/7+f/AFqPMuP+eC/9/P8A61AHmOu+H72bUb1X0Ke8vJdQhngv1UEJCAPl3ZyMYxt6HrXp1z/yy/66rR5lx/zwX/v5/wDWppWaV03xqiqwbIbOf0oAx4P+SlX3/YItv/R09dBXPwf8lKvv+wRbf+jp66CgAooooAKKKKACuIu/C2oaQ2mWui+IdZjtZr5lmjXyCIo2WRyRmLI+faOc9a6qfWtLtZmhudSs4ZV+8kk6qw+oJrEl1nVIvH2n2Kz2cuk39pNLGEiJkDIYxnfuwQd/TH40AT/8Ixe/9Dbrn523/wAZo/4Ri9/6G3XPztv/AIzWTb+K9WfVra6kFqdHu9QawSIRkTJhGYSF92DkrjbtHXOe1dvQBz3/AAjF7/0Nuufnbf8Axmj/AIRi9/6G3XPztv8A4zXQ0UAc9/wjF7/0Nuufnbf/ABms7+wdZ/4SY2n/AAlGt/Yfsfm+Zi3z5m/GM+V6V1d1fWljGHvrqG2RjgNNIEBP41y/irxW9pa2baBqNmwluBHPOIWu1hX1KxsD+tAF7/hGL3/obdc/O2/+M0f8Ixe/9Dbrn523/wAZrT0a6+26Pb3BvIb0yICZ4IyiOfUKSSPoTV6gDnv+EYvf+ht1z87b/wCM0f8ACMXv/Q265+dt/wDGa6GigDnv+EYvf+ht1z87b/4zWdpWg6zcz6kt74o1uNILwxW5Atxvj2Ic/wCq5+YsPwrsJHEcbO33VBJ/CuM0XxPrFxqmnSaiLU6fqzTLbxxRlZICjYG5ixDbgGPQY96ANT/hGL3/AKG3XPztv/jNH/CMXv8A0Nuufnbf/Ga6GigDnv8AhGL3/obdc/O2/wDjNH/CMXv/AENuufnbf/Ga6GigDnv+EYvf+ht1z87b/wCM1neH9B1m98O2FzqfijW4byaBXmjAtwFcjkY8qt3xRqF3pXhPVdQ02MS3draSzQRshYM6qSBgcnkdBVTwjq02q2Mr3WqWt/KrDIgs3tjFx0ZXZifrxQAn/CMXv/Q265+dt/8AGaP+EYvf+ht1z87b/wCM10NFAHOf8Ii8l3aTXviHV7xbWdbhIZmg2My9M7Yge/rXR0UUAFFFFAEF9aJqGnXNnMWWO4iaJyhwQGBBx781yOn+HNWj1i8sP+Em1uOwtbe3Fsw+z5JO8MM+Vzjav510x17SBL5R1WyEmduw3CZz6YzWLY65qcHiTXLXVpLWW0srVLuD7PEVYKd+QxLHd93qAKALH/CMXv8A0Nuufnbf/GaP+EYvf+ht1z87b/4zVDw94i1i41ezg1n7K0Op2slxbCCMq0O1gNjEsd2Qc5wOnSuwoA57/hGL3/obdc/O2/8AjNH/AAjF7/0Nuufnbf8AxmuhooA57/hGL3/obdc/O2/+M1nWGhazNq2qQ3PijW0t7eWNbZgLcb1Masx/1XPzEiumudY0yzmMN5qNpBKBkpLOqsPwJrlbvxXd/wDCafYotVsbXTNsbRSSWbyicsOQJVcKv40Aav8AwjF7/wBDbrn523/xmj/hGL3/AKG3XPztv/jNdDRQBz3/AAjF7/0Nuufnbf8Axmj/AIRi9/6G3XPztv8A4zXQ0UAc9/wjF7/0Nuufnbf/ABms7QdB1m90WGfUvFGtxXLFw6AW4xhyBx5XoBW34o1abRtDe4tER7l5EhhEg+UMzAZPsMk/hUHhrVL+6n1HT9ZaCS8sJVVpbeMokisMg7SSQeDxk0AM/wCEYvf+ht1z87b/AOM0f8Ixe/8AQ265+dt/8ZroaKAOe/4Ri9/6G3XPztv/AIzR/wAIxe/9Dbrn523/AMZroaKAON8QaDrNl4dv7rS/FGtzXkNu7wRkW5DOBwMeV61ojwxe4GfFuufnbf8Axml8aavfaL4fW60wxrM1zDE0klu0wjRnAZtikE4BJ61c8O37ajo0c8moW+oOWYNNbwNCvXpsZiQR0OTQBS/4Ri9/6G3XPztv/jNH/CMXv/Q265+dt/8AGa6GigDG0nw4NL1S41CbVL/UbieFIC12Y/lRWZgBsRe7nrmtmiigAooooAKKKKAKc+j6ZczNLc6daTSN955IFZj+JFYl/wCGNSuPFmn6tZata2ttYxPElp9g3ZVypb5hIMfcGPl4966eigDlYfBbxaxDM2pbtNt7tr2Gy8jDLKUK8ybuV+YnG3r3rqqKKACiiigCG6srW9QJeW0NwqnIWWMOAfxrPvNHmjgC+HJLLSnLZkY2IkDj0wGX881rUUAZnh7RU0DRo7FJjOQ7yPIV27ndizEDsMk8dq06KKACiiigBGUOpVhkMMEVy+k+DZdO1S2muNT+02dj5ps7byNhjMjZJZ9x3Y5A4HB711NFABRRRQAUUUUAQ3kc8tnLHaTJBOykJI8e9VPYlcjP0yKytE0G407UbzUdSvkvb272h2it/JQKowAF3Nz75rbooAKKKKACiiigAooooAonRNKMvmHTLMyZ3bjbpnPrnFY0PhfUh4rvdUudWtpbO9gFvJZrYlW8sBsAP5h5+Y87a6eigDmdC8JTaVqUN1ean9tS0ge3tI/I8sxIzAncdx3HgDOBx2rpqKKACiiigCpcaTp13MZbuwtZ5CMF5YVYn8SKxta8L3WrobFdQt7XR227rSKy+fA7CTfgf988V0lFABRRRQAUUUUAZuvaOuuaPJZNKYGLK8coXdsdWDA479OlQ6Bokuk/a5768F7e3kokmmWLyl4GAAuTgDnuetbFFABRRRQAUUUUAVNSgvri0KaZdxWk+QRJLB5y4/3dy/zqp4e0M6JaTrNc/ari5neeeUR+Wpdjk4XJwOfU1rUUAFFFFABRRRQAUUUUAFFFFABRRRQAUUUUAFFFFABRRRQAUUUUAFFFFABRRRQAUUUUAFFFFABRRRQAUUUUAFFFFABRRRQAUUUUAFFFFABRRRQAUUUUAFFFFABRRRQAUUUUAFFFFABRRRQAUUUUAFFFFABRRRQB/9k=)\n",
        "\n",
        "\n",
        "<details>\n",
        "    <summary>Click here to see code</summary>\n",
        "\n",
        "```python\n",
        "import numpy as np\n",
        "from sklearn.datasets import make_blobs\n",
        "\n",
        "#data = Generated data examples that forms 3 clusters\n",
        "#classes = The cluster that each example belongs to\n",
        "#We use 1000 points\n",
        "data, classes = make_blobs(1000, centers=4, random_state=42)\n",
        "\n",
        "#Import the k-Means algorithm\n",
        "from sklearn.cluster import KMeans\n",
        "\n",
        "#Perform the clustering\n",
        "kmeans = KMeans(n_clusters=4).fit(data)\n",
        "\n",
        "#Enter your codes here\n",
        "\n",
        "plt.figure()\n",
        "\n",
        "#Subplot on the left\n",
        "#121 = 1 row, 2 columns, subplot plot 1\n",
        "plt.subplot(121) #Use subplot() to plot the generated data and results from k-Means clustering\n",
        "#Use different colours for different cluster based on the generated data.\n",
        "rgb = np.array(['r', 'g', 'b', 'y'])\n",
        "plt.scatter(data[:, 0], data[:, 1], color=rgb[classes])\n",
        "plt.title(\"Generated Data\")\n",
        "\n",
        "\n",
        "#Subplot on the right\n",
        "#122 = 1 row, 2 columns, subplot plot 2\n",
        "plt.subplot(122)\n",
        "#Plot the same data except use results from our k-mean clustering(kmeans.labels_)\n",
        "#Different colours for different cluster based kmeans.labels_\n",
        "plt.scatter(\n",
        "    data[:, 0],  #x\n",
        "    data[:, 1],  #y\n",
        "    color=rgb[kmeans.labels_])\n",
        "\n",
        "#Plot the centroid of the clusters\n",
        "plt.scatter(\n",
        "    kmeans.cluster_centers_[:, 0], #x\n",
        "    kmeans.cluster_centers_[:, 1], #y\n",
        "    marker=\"*\", # use a star\n",
        "    s=200, # size is 200 (bigger)\n",
        "    color=\"Yellow\",\n",
        "    label=\"Centroid\")\n",
        "plt.title(\"Clustered by k-Means\")\n",
        "plt.legend()\n",
        "```"
      ]
    },
    {
      "cell_type": "code",
      "execution_count": null,
      "metadata": {
        "id": "DaxHkuoGYX-v"
      },
      "outputs": [],
      "source": [
        "# Type your code here"
      ]
    }
  ],
  "metadata": {
    "celltoolbar": "Raw Cell Format",
    "colab": {
      "name": "Clustering 2021 v1.0.ipynb",
      "provenance": [],
      "include_colab_link": true
    },
    "kernelspec": {
      "display_name": "Python 3 (ipykernel)",
      "language": "python",
      "name": "python3"
    },
    "language_info": {
      "codemirror_mode": {
        "name": "ipython",
        "version": 3
      },
      "file_extension": ".py",
      "mimetype": "text/x-python",
      "name": "python",
      "nbconvert_exporter": "python",
      "pygments_lexer": "ipython3",
      "version": "3.10.9"
    },
    "vscode": {
      "interpreter": {
        "hash": "c769739c27f17ff849287a42121146e7db3afc66371c5feb48135b62d032b925"
      }
    }
  },
  "nbformat": 4,
  "nbformat_minor": 0
}
{
  "nbformat": 4,
  "nbformat_minor": 0,
  "metadata": {
    "colab": {
      "provenance": [],
      "include_colab_link": true
    },
    "kernelspec": {
      "name": "python3",
      "display_name": "Python 3"
    },
    "language_info": {
      "name": "python"
    },
    "accelerator": "GPU",
    "gpuClass": "standard"
  },
  "cells": [
    {
      "cell_type": "markdown",
      "metadata": {
        "id": "view-in-github",
        "colab_type": "text"
      },
      "source": [
        "<a href=\"https://colab.research.google.com/github/nyp-sit/nypi/blob/main/day5am/alpaca7_inference.ipynb\" target=\"_parent\"><img src=\"https://colab.research.google.com/assets/colab-badge.svg\" alt=\"Open In Colab\"/></a>"
      ]
    },
    {
      "cell_type": "markdown",
      "source": [
        "<img src=\"https://www.nyp.edu.sg/content/dam/nyp/logo.png\" width='200'/>\n",
        "\n",
        "Welcome to the lab! Before we get started here are a few pointers on Collab notebooks.\n",
        "\n",
        "1. The notebook is composed of cells; cells can contain code which you can run, or they can hold text and/or images which are there for you to read.\n",
        "\n",
        "2. You can execute code cells by clicking the ```Run``` icon in the menu, or via the following keyboard shortcuts ```Shift-Enter``` (run and advance) or ```Ctrl-Enter``` (run and stay in the current cell).\n",
        "\n",
        "3. To interrupt cell execution, click the ```Stop``` button on the toolbar or navigate to the ```Kernel``` menu, and select ```Interrupt ```."
      ],
      "metadata": {
        "id": "WxhfjQ2CZhal"
      }
    },
    {
      "cell_type": "code",
      "execution_count": null,
      "metadata": {
        "id": "-hWKQ_pbc7Ll"
      },
      "outputs": [],
      "source": [
        "!pip install -q datasets loralib sentencepiece\n",
        "!pip uninstall transformers\n",
        "!pip install -q git+https://github.com/zphang/transformers@c3dc391\n",
        "!pip -q install git+https://github.com/huggingface/peft.git\n",
        "!pip -q install bitsandbytes"
      ]
    },
    {
      "cell_type": "code",
      "source": [
        "from peft import PeftModel\n",
        "from transformers import LLaMATokenizer, LLaMAForCausalLM, GenerationConfig\n",
        "import textwrap\n"
      ],
      "metadata": {
        "id": "nMcdkAOKfJyL"
      },
      "execution_count": null,
      "outputs": []
    },
    {
      "cell_type": "code",
      "source": [
        "\n",
        "tokenizer = LLaMATokenizer.from_pretrained(\"decapoda-research/llama-7b-hf\")\n",
        "\n",
        "model = LLaMAForCausalLM.from_pretrained(\n",
        "    \"decapoda-research/llama-7b-hf\",\n",
        "    load_in_8bit=True,\n",
        "    device_map=\"auto\",\n",
        ")\n",
        "model = PeftModel.from_pretrained(model, \"samwit/alpaca7B-lora\")"
      ],
      "metadata": {
        "id": "oQKVSZRxdL8-"
      },
      "execution_count": null,
      "outputs": []
    },
    {
      "cell_type": "code",
      "source": [
        "\n",
        "def alpaca_talk(text):\n",
        "    inputs = tokenizer(\n",
        "        text,\n",
        "        return_tensors=\"pt\",\n",
        "    )\n",
        "    input_ids = inputs[\"input_ids\"].cuda()\n",
        "\n",
        "    generation_config = GenerationConfig(\n",
        "        temperature=0.6,\n",
        "        top_p=0.95,\n",
        "        repetition_penalty=1.2,\n",
        "    )\n",
        "    print(\"Generating...\")\n",
        "    generation_output = model.generate(\n",
        "        input_ids=input_ids,\n",
        "        generation_config=generation_config,\n",
        "        return_dict_in_generate=True,\n",
        "        output_scores=True,\n",
        "        max_new_tokens=256,\n",
        "    )\n",
        "    for s in generation_output.sequences:\n",
        "        print(tokenizer.decode(s))"
      ],
      "metadata": {
        "id": "N1iAiixVdugv"
      },
      "execution_count": null,
      "outputs": []
    },
    {
      "cell_type": "code",
      "source": [
        "input_text ='''Below is an instruction that describes a task. Write a response that appropriately completes the request.\n",
        "\n",
        "### Instruction:\n",
        "What are Alpacas and how are they different to Lamas?\n",
        "\n",
        "### Response:\n",
        "'''\n",
        "\n",
        "alpaca_talk(input_text)"
      ],
      "metadata": {
        "id": "ph4BKMCFgXms"
      },
      "execution_count": null,
      "outputs": []
    },
    {
      "cell_type": "markdown",
      "source": [
        "### Instruction:\n",
        "What are Alpacas and how are they different to Lamas?\n",
        "\n",
        "### Response:\n",
        "Alpaca's are small, domesticated animals native to South America while Lama's are large wild animals from Central Asia.\n",
        "The main difference between these two species is their size; alpacas grow up to about three feet tall (1 meter) whereas lamas can reach heights of over six feet (2 meters)."
      ],
      "metadata": {
        "id": "c1zjArWOmK_C"
      }
    },
    {
      "cell_type": "code",
      "source": [
        "input_text ='''Below is an instruction that describes a task. Write a response that appropriately completes the request.\n",
        "\n",
        "### Instruction:\n",
        "Write an ode to why do Alpacas make the best pets?\n",
        "\n",
        "### Response:\n",
        "'''\n",
        "\n",
        "alpaca_talk(input_text)"
      ],
      "metadata": {
        "id": "klSpQVs3gT5n"
      },
      "execution_count": null,
      "outputs": []
    },
    {
      "cell_type": "code",
      "source": [
        "input_text ='''Below is an instruction that describes a task. Write a response that appropriately completes the request.\n",
        "\n",
        "### Instruction:\n",
        "Write an email to OpenAI saying why GPT4 should be open-source.\n",
        "\n",
        "### Response:\n",
        "'''\n",
        "\n",
        "alpaca_talk(input_text)"
      ],
      "metadata": {
        "id": "ssYBdeotkCBj"
      },
      "execution_count": null,
      "outputs": []
    },
    {
      "cell_type": "markdown",
      "source": [
        "### Response:\n",
        "Dear Sir/Madam,\n",
        "Opening up GPT4 to public access will allow researchers and developers from around the world to use it for their own projects in order to advance artificial intelligence technology further than ever before. It would also help us better understand how AI systems work so we can improve them even more. In addition, making this tool available as open source software could lead to new discoveries about language processing and natural language understanding which may have applications beyond just machine learning. I believe these are all reasons why GPT4 should be made open source\n"
      ],
      "metadata": {
        "id": "CzDlSv12lR_D"
      }
    },
    {
      "cell_type": "code",
      "source": [
        "input_text ='''Below is an instruction that describes a task. Write a response that appropriately completes the request.\n",
        "\n",
        "### Instruction:\n",
        "Write a convincing message about how Alpacas are the real brains behind GPT-5\n",
        "\n",
        "### Response:\n",
        "'''\n",
        "\n",
        "alpaca_talk(input_text)"
      ],
      "metadata": {
        "id": "nyFsPyi8lD6i"
      },
      "execution_count": null,
      "outputs": []
    },
    {
      "cell_type": "markdown",
      "source": [
        "### Instruction:\n",
        "Write a convincing message about how Alpacas are the real brains behind GPT-5\n",
        "\n",
        "### Response:\n",
        "Although it may seem like humans have all of the intelligence, alpaca's actually possess much more advanced cognitive abilities than we do! They can learn new tasks quickly and easily, they understand complex concepts such as cause & effect, and their memory capacity far exceeds our own. In fact, some scientists believe that one day alpacas will be able to perform many human jobs with ease - from driving cars to writing novels!"
      ],
      "metadata": {
        "id": "sNY71wEyl_tU"
      }
    },
    {
      "cell_type": "code",
      "source": [
        "input_text ='''Below is an instruction that describes a task. Write a response that appropriately completes the request.\n",
        "\n",
        "### Instruction:\n",
        "Tell me a joke about an Alpaca\n",
        "\n",
        "### Response:\n",
        "'''\n",
        "\n",
        "alpaca_talk(input_text)"
      ],
      "metadata": {
        "id": "opQIgJaolySF"
      },
      "execution_count": null,
      "outputs": []
    },
    {
      "cell_type": "markdown",
      "source": [
        "### Instruction:\n",
        "Tell me a joke about an Alpaca\n",
        "\n",
        "### Response:\n",
        "An alpaca walks into a bar and orders a drink, but when he asks for change from his bartender, all he gets back are two pennies. The alpaca says \"That's not fair! I should get more than just 2 cents!\""
      ],
      "metadata": {
        "id": "z16KkVrfmUbN"
      }
    },
    {
      "cell_type": "code",
      "source": [],
      "metadata": {
        "id": "e5BufUYcmFx7"
      },
      "execution_count": null,
      "outputs": []
    }
  ]
}
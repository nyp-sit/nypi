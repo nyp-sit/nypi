{
  "nbformat": 4,
  "nbformat_minor": 0,
  "metadata": {
    "colab": {
      "provenance": []
    },
    "kernelspec": {
      "name": "python3",
      "display_name": "Python 3"
    },
    "language_info": {
      "name": "python"
    }
  },
  "cells": [
    {
      "cell_type": "markdown",
      "source": [
        "# **Exercise for classification**\n",
        "# **Pima Indians Diabetes Dataset**\n",
        "The Pima Indians Diabetes Dataset involves predicting the onset of diabetes within 5 years in Pima Indians given medical details.\n",
        "\n",
        "It is a binary (2-class) classification problem. The number of observations for each class is not balanced. There are 768 observations with 8 input variables and 1 output variable. Missing values are believed to be encoded with zero values. The variable names are as follows:\n",
        "\n",
        "1. Number of times pregnant.\n",
        "2. Plasma glucose concentration a 2 hours in an oral glucose tolerance test.\n",
        "3. Diastolic blood pressure (mm Hg).\n",
        "4. Triceps skinfold thickness (mm).\n",
        "5. 2-Hour serum insulin (mu U/ml).\n",
        "6. Body mass index (weight in kg/(height in m)^2).\n",
        "7. Diabetes pedigree function.\n",
        "8. Age (years).\n",
        "9. Class variable (0 or 1)."
      ],
      "metadata": {
        "id": "n_Q2L1tJz5jD"
      }
    },
    {
      "cell_type": "markdown",
      "source": [
        "**Step 1. Importing Required Libraries**"
      ],
      "metadata": {
        "id": "Zwa4wqr80OYz"
      }
    },
    {
      "cell_type": "code",
      "execution_count": null,
      "metadata": {
        "id": "it5ds-1wzWiM"
      },
      "outputs": [],
      "source": [
        "# Hints:import pandas; sklearn-logistic regreesion, train_test_split and metrics\n"
      ]
    },
    {
      "cell_type": "markdown",
      "source": [
        "**Step 2: Loading Data**"
      ],
      "metadata": {
        "id": "SXC4XoWc0RjK"
      }
    },
    {
      "cell_type": "code",
      "source": [
        "df= pd.read_csv('pima-indians-diabetes.csv')\n",
        "df"
      ],
      "metadata": {
        "id": "xNET5rqJ0cP_"
      },
      "execution_count": null,
      "outputs": []
    },
    {
      "cell_type": "markdown",
      "source": [
        "**Step 3. Understanding the data**"
      ],
      "metadata": {
        "id": "PzYgLg9U0z4D"
      }
    },
    {
      "cell_type": "code",
      "source": [
        "# Hints: Use describe and info to further understand the data\n"
      ],
      "metadata": {
        "id": "QQVMSfBc05mc"
      },
      "execution_count": null,
      "outputs": []
    },
    {
      "cell_type": "markdown",
      "source": [
        "**Step 4: Split the data into X(features) and y(target)**"
      ],
      "metadata": {
        "id": "FYnqF3oF097D"
      }
    },
    {
      "cell_type": "code",
      "source": [
        "#split dataset in features and target variable:\n"
      ],
      "metadata": {
        "id": "_w10ml081Lfz"
      },
      "execution_count": null,
      "outputs": []
    },
    {
      "cell_type": "markdown",
      "source": [
        "**Step 5. Splitting Data into Train and Test dataset**"
      ],
      "metadata": {
        "id": "RRHyCRiI1ZRj"
      }
    },
    {
      "cell_type": "code",
      "source": [
        "# Split dataset into training set and test set\n"
      ],
      "metadata": {
        "id": "FJZuuDmd1hQy"
      },
      "execution_count": null,
      "outputs": []
    },
    {
      "cell_type": "markdown",
      "source": [
        "**Step 6. Building Logistic Regression Model and prediect the response for Test dataset**"
      ],
      "metadata": {
        "id": "tyIYerPg1n1S"
      }
    },
    {
      "cell_type": "code",
      "source": [
        "# Train Logistic Regression Classifer\n"
      ],
      "metadata": {
        "id": "P4iuk7QE1r8C"
      },
      "execution_count": null,
      "outputs": []
    },
    {
      "cell_type": "markdown",
      "source": [
        "**Step 7. Evaluating Model**"
      ],
      "metadata": {
        "id": "HmZAz0_D1sW7"
      }
    },
    {
      "cell_type": "code",
      "source": [
        "# Model Accuracy, how often is the classifier correct?\n"
      ],
      "metadata": {
        "id": "VeDBYpwS2Jth"
      },
      "execution_count": null,
      "outputs": []
    }
  ]
}
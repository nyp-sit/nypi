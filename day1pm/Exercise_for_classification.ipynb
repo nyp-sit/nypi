{
  "nbformat": 4,
  "nbformat_minor": 0,
  "metadata": {
    "colab": {
      "provenance": [],
      "include_colab_link": true
    },
    "kernelspec": {
      "name": "python3",
      "display_name": "Python 3"
    },
    "language_info": {
      "name": "python"
    }
  },
  "cells": [
    {
      "cell_type": "markdown",
      "metadata": {
        "id": "view-in-github",
        "colab_type": "text"
      },
      "source": [
        "<a href=\"https://colab.research.google.com/github/nyp-sit/nypi/blob/main/day1pm/Exercise_for_classification.ipynb\" target=\"_parent\"><img src=\"https://colab.research.google.com/assets/colab-badge.svg\" alt=\"Open In Colab\"/></a>"
      ]
    },
    {
      "cell_type": "markdown",
      "source": [
        "<img src=\"https://www.nyp.edu.sg/content/dam/nyp/logo.png\" width='200'/>\n",
        "\n",
        "Welcome to the lab! Before we get started here are a few pointers on Collab notebooks.\n",
        "\n",
        "1. The notebook is composed of cells; cells can contain code which you can run, or they can hold text and/or images which are there for you to read.\n",
        "\n",
        "2. You can execute code cells by clicking the ```Run``` icon in the menu, or via the following keyboard shortcuts ```Shift-Enter``` (run and advance) or ```Ctrl-Enter``` (run and stay in the current cell).\n",
        "\n",
        "3. To interrupt cell execution, click the ```Stop``` button on the toolbar or navigate to the ```Kernel``` menu, and select ```Interrupt ```."
      ],
      "metadata": {
        "id": "6HUq0EUiXmL-"
      }
    },
    {
      "cell_type": "markdown",
      "source": [
        "# **Exercise for classification**\n",
        "# **Pima Indians Diabetes Dataset**\n",
        "The Pima Indians Diabetes Dataset involves predicting the onset of diabetes within 5 years in Pima Indians given medical details.\n",
        "\n",
        "It is a binary (2-class) classification problem. The number of observations for each class is not balanced. There are 768 observations with 8 input variables and 1 output variable. Missing values are believed to be encoded with zero values. The variable names are as follows:\n",
        "\n",
        "1. Number of times pregnant.\n",
        "2. Plasma glucose concentration a 2 hours in an oral glucose tolerance test.\n",
        "3. Diastolic blood pressure (mm Hg).\n",
        "4. Triceps skinfold thickness (mm).\n",
        "5. 2-Hour serum insulin (mu U/ml).\n",
        "6. Body mass index (weight in kg/(height in m)^2).\n",
        "7. Diabetes pedigree function.\n",
        "8. Age (years).\n",
        "9. Class variable (0 or 1)."
      ],
      "metadata": {
        "id": "n_Q2L1tJz5jD"
      }
    },
    {
      "cell_type": "markdown",
      "source": [
        "**Step 1. Importing Required Libraries**"
      ],
      "metadata": {
        "id": "Zwa4wqr80OYz"
      }
    },
    {
      "cell_type": "code",
      "execution_count": null,
      "metadata": {
        "id": "it5ds-1wzWiM"
      },
      "outputs": [],
      "source": [
        "# Hints:import pandas; sklearn-logistic regreesion, train_test_split and metrics\n"
      ]
    },
    {
      "cell_type": "markdown",
      "source": [
        "**Step 2: Loading Data**"
      ],
      "metadata": {
        "id": "SXC4XoWc0RjK"
      }
    },
    {
      "cell_type": "code",
      "source": [
        "df= pd.read_csv('pima-indians-diabetes.csv')\n",
        "df"
      ],
      "metadata": {
        "id": "xNET5rqJ0cP_"
      },
      "execution_count": null,
      "outputs": []
    },
    {
      "cell_type": "markdown",
      "source": [
        "**Step 3. Understanding the data**"
      ],
      "metadata": {
        "id": "PzYgLg9U0z4D"
      }
    },
    {
      "cell_type": "code",
      "source": [
        "# Hints: Use describe and info to further understand the data\n"
      ],
      "metadata": {
        "id": "QQVMSfBc05mc"
      },
      "execution_count": null,
      "outputs": []
    },
    {
      "cell_type": "markdown",
      "source": [
        "**Step 4: Split the data into X(features) and y(target)**"
      ],
      "metadata": {
        "id": "FYnqF3oF097D"
      }
    },
    {
      "cell_type": "code",
      "source": [
        "#split dataset in features and target variable:\n"
      ],
      "metadata": {
        "id": "_w10ml081Lfz"
      },
      "execution_count": null,
      "outputs": []
    },
    {
      "cell_type": "markdown",
      "source": [
        "**Step 5. Splitting Data into Train and Test dataset**"
      ],
      "metadata": {
        "id": "RRHyCRiI1ZRj"
      }
    },
    {
      "cell_type": "code",
      "source": [
        "# Split dataset into training set and test set\n"
      ],
      "metadata": {
        "id": "FJZuuDmd1hQy"
      },
      "execution_count": null,
      "outputs": []
    },
    {
      "cell_type": "markdown",
      "source": [
        "**Step 6. Building Logistic Regression Model and prediect the response for Test dataset**"
      ],
      "metadata": {
        "id": "tyIYerPg1n1S"
      }
    },
    {
      "cell_type": "code",
      "source": [
        "# Train Logistic Regression Classifer\n"
      ],
      "metadata": {
        "id": "P4iuk7QE1r8C"
      },
      "execution_count": null,
      "outputs": []
    },
    {
      "cell_type": "markdown",
      "source": [
        "**Step 7. Evaluating Model**"
      ],
      "metadata": {
        "id": "HmZAz0_D1sW7"
      }
    },
    {
      "cell_type": "code",
      "source": [
        "# Model Accuracy, how often is the classifier correct?\n"
      ],
      "metadata": {
        "id": "VeDBYpwS2Jth"
      },
      "execution_count": null,
      "outputs": []
    }
  ]
}
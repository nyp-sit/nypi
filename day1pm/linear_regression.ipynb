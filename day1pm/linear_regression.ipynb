{
  "cells": [
    {
      "cell_type": "markdown",
      "metadata": {
        "id": "view-in-github",
        "colab_type": "text"
      },
      "source": [
        "<a href=\"https://colab.research.google.com/github/nyp-sit/nypi/blob/main/day1pm/linear_regression.ipynb\" target=\"_parent\"><img src=\"https://colab.research.google.com/assets/colab-badge.svg\" alt=\"Open In Colab\"/></a>"
      ]
    },
    {
      "cell_type": "markdown",
      "source": [
        "<img src=\"https://www.nyp.edu.sg/content/dam/nyp/logo.png\" width='200'/>\n",
        "\n",
        "Welcome to the lab! Before we get started here are a few pointers on Collab notebooks.\n",
        "\n",
        "1. The notebook is composed of cells; cells can contain code which you can run, or they can hold text and/or images which are there for you to read.\n",
        "\n",
        "2. You can execute code cells by clicking the ```Run``` icon in the menu, or via the following keyboard shortcuts ```Shift-Enter``` (run and advance) or ```Ctrl-Enter``` (run and stay in the current cell).\n",
        "\n",
        "3. To interrupt cell execution, click the ```Stop``` button on the toolbar or navigate to the ```Kernel``` menu, and select ```Interrupt ```."
      ],
      "metadata": {
        "id": "v7Egzy1VYNwK"
      }
    },
    {
      "cell_type": "markdown",
      "metadata": {
        "id": "lks9-NryXjI7"
      },
      "source": [
        "\n",
        "# Linear Regression\n",
        "\n",
        "\n",
        "\n",
        "## Objectives\n",
        "\n",
        "- Learn how use scatter plot to visualize relationship between two variables.\n",
        "- Use seaborn to draw regression plot.\n",
        "- Using Scikit-Learn to generate a Linear Regression model and perform prediction.\n",
        "- Evaluate the model by looking at the mean squared error (MSE) value, R2 and adjusted R2 values.\n",
        "\n",
        "\n",
        "## Introduction\n",
        "\n",
        "The linear regression is one of the most common algorithms used to model the relationship among variables. It is routinely used to predict a numerical outcome from a related set of input predictors.\n",
        "\n",
        "The simplest form of linear regression (aka Simple Linear Regression) involves two variables where one variable is used to predict another. The assumption is that the two variables have a linear relationship. This can be expressed as an equation below, where we wish to predict y given a known value of x.\n",
        "\n",
        "$$y = β_0+β_1x$$\n",
        "\n",
        "In the equation, the values of $β_0$ and $β_1$ is fixed and modelling  refers to the processing of determining the values of $β_0$ and $β_1$.\n",
        "\n",
        "Theorectically, for a linear relationship (straight line in a cartesian plane), we will only need 2 sets of (x, y) values (2 points) but in practise, due to noise and errors, we will usually need more. The usefulness of the equation depends on how well the values of $β_0$ and $β_1$ are chosen. That is of course possible only if we have sufficient and quality data from which to derive the best $β$ values.\n",
        "\n",
        "## Simple Linear Regression\n",
        "\n",
        "In this practical, we will see how to use data to generate a linear regression models and then use the model for prediction. We will use a simple set of data for illustration purposes.\n",
        "\n",
        "### Get the data\n",
        "\n",
        "Read in the file 'mortgage_data.csv' in data folder as a pandas dataframe.\n"
      ]
    },
    {
      "cell_type": "code",
      "execution_count": null,
      "metadata": {
        "id": "GJAq2HE6XjJB"
      },
      "outputs": [],
      "source": [
        "import numpy as np\n",
        "import pandas as pd\n",
        "import matplotlib.pyplot as plt\n",
        "import seaborn as sns\n",
        "\n",
        "%matplotlib inline\n",
        "\n",
        "\n",
        "df = pd.read_csv('data/mortgage_data.csv', index_col=\"Year\")\n",
        "print(df.head())"
      ]
    },
    {
      "cell_type": "markdown",
      "metadata": {
        "id": "qCB2k1qMXjJC"
      },
      "source": [
        "### Visualize the relationship\n",
        "\n",
        "We can use the seaborn plotting library to show a regression plot of the data. The plot can help us see if there is some linear relationship between the two variables."
      ]
    },
    {
      "cell_type": "code",
      "execution_count": null,
      "metadata": {
        "id": "cpoUXS6dysTY"
      },
      "outputs": [],
      "source": [
        "sns.regplot(x=\"Rates\", y=\"Mortgage\", data=df)\n",
        "plt.show()"
      ]
    },
    {
      "cell_type": "markdown",
      "metadata": {
        "id": "Sc7-0GiAysTY"
      },
      "source": [
        "As can be seen from the figure, the two variables *Rates* and *Mortgages* are somewhat related to each other in a linear but inversely proportional manner. This implies that we should be able to get a good linear regression model. The band around the line shows the 95% confidence interval of the regression."
      ]
    },
    {
      "cell_type": "markdown",
      "metadata": {
        "id": "tR863fhVXjJE"
      },
      "source": [
        "### Simple Linear Regression Modelling\n",
        "\n",
        "We will now generate a scikit-learn linear regression model and subsequently use the model to predict a value. The Linear Regression algorithm is found under the [`sklearn.linear_model`](https://scikit-learn.org/stable/modules/classes.html#module-sklearn.linear_model) module.\n",
        "\n",
        "Create a LinearRegression model and train the model using data from the *Rates* and *Mortage* columns as follows.\n",
        "\n",
        "**Note**\n",
        "\n",
        "Scikit-learn model expects \\$X$ (the features) to be of the shape (n_samples, n_features).  So our rates, which is a single dimensional array of shape (n_samples), need to be reshaped to (n_samples, 1)."
      ]
    },
    {
      "cell_type": "code",
      "execution_count": null,
      "metadata": {
        "id": "tJZkMSpjXjJF"
      },
      "outputs": [],
      "source": [
        "import sklearn\n",
        "from sklearn.linear_model import LinearRegression\n",
        "\n",
        "sklearn.set_config(display=None)\n",
        "\n",
        "# reshape the numpy array\n",
        "rates = df[\"Rates\"].values.reshape(-1,1)\n",
        "print(rates.shape)\n",
        "mortgage = df['Mortgage'].values\n",
        "print(mortgage.shape)\n",
        "\n",
        "# Create LinearRegression\n",
        "model = LinearRegression()\n",
        "\n",
        "# train the model using the fit() function\n",
        "model.fit(rates, mortgage)\n"
      ]
    },
    {
      "cell_type": "markdown",
      "metadata": {
        "id": "BTSy1f3zXjJG"
      },
      "source": [
        "We can also take a look at the equation generated by the ```fit()``` function. The coefficient ($β_1$) and intercept ($β_0$) can be retrieved using ```model.coef_``` and ```model.intercept_```."
      ]
    },
    {
      "cell_type": "code",
      "execution_count": null,
      "metadata": {
        "id": "cEojN1UzXjJG"
      },
      "outputs": [],
      "source": [
        "#Print our the model coefficients and intercept there\n",
        "\n",
        "print(\"Equation y={0:.2f}*x + {1:.2f}\".format(model.coef_[0], model.intercept_))"
      ]
    },
    {
      "cell_type": "markdown",
      "metadata": {
        "id": "uIktlnvLXjJH"
      },
      "source": [
        "You should see the following results:\n",
        "\n",
        "```\n",
        "Equation y=-32518.17*x + 501105.72\n",
        "```\n",
        "\n",
        "This is the mathematical model that can be used for subsequent prediction using the `model.predict()` function.\n",
        "To see how prediction works, we will input a value of 8.0 for the rates and see how well the model works. Based on the best-fit line we plotted earlier, we can guess that the predicted valued will be between 225k and 250k.\n",
        "\n",
        "We can now use the model to predict mortage at a rate of 8% using the `model.predict()` function."
      ]
    },
    {
      "cell_type": "code",
      "execution_count": null,
      "metadata": {
        "id": "8YbPw4SxXjJH"
      },
      "outputs": [],
      "source": [
        "# Create a test value for rate of 8.0\n",
        "test_rate = np.array([[8.0]])\n",
        "\n",
        "# Use the predict function of the model to perform the prediction\n",
        "predicted_mortgage = model.predict(test_rate)[0]\n",
        "print(predicted_mortgage)\n",
        "\n",
        "# Print out the predicted mortgage value\n",
        "print(\"Predicted mortgage: {0:.2f}\".format(predicted_mortgage))"
      ]
    },
    {
      "cell_type": "markdown",
      "metadata": {
        "id": "oTnhT0aqXjJI"
      },
      "source": [
        "You should see the following output:\n",
        "\n",
        "```\n",
        "Predicted mortgage: 240960.40\n",
        "```\n",
        "\n",
        "As can be seen from the best-fit line, the value is approximately 240k which is inline with the prediction. You can also verify the value by substituting the value in the equation generated previously.\n",
        "\n",
        "### Evaluating the Model\n",
        "\n",
        "Very often, we will need to know how well our model works, especially when we need to compare different models and pick the best among them.\n",
        "\n",
        "#### Mean Square Error (MSE)\n",
        "\n",
        "The Mean Square Error value provides an indication of the performance of a model. Recall that we generate a model by minimizing the MSE of the training data, in other words, the lower the value of MSE, the smaller the prediction error."
      ]
    },
    {
      "cell_type": "code",
      "execution_count": null,
      "metadata": {
        "id": "UU8SXqCGXjJI"
      },
      "outputs": [],
      "source": [
        "from sklearn.metrics import mean_squared_error\n",
        "\n",
        "# Calculates the MSE value\n",
        "mse = mean_squared_error(mortgage, model.predict(rates))\n",
        "\n",
        "# Print out the MSE value\n",
        "print(\"MSE: {0:.2f}\".format(mse))"
      ]
    },
    {
      "cell_type": "markdown",
      "metadata": {
        "id": "3r0RJTB1XjJI"
      },
      "source": [
        "#### Coefficient of Determination ($R^2$) Value\n",
        "\n",
        "$R^2$ value is an important and commonly used value to compare the predictive power of the models. ```Scikit-Learn``` package provides a ```r2_score()``` function under ```sklearn.metrics``` that can helps to calculate the $R^2$ value."
      ]
    },
    {
      "cell_type": "code",
      "execution_count": null,
      "metadata": {
        "id": "7Uo2A8YvXjJJ"
      },
      "outputs": [],
      "source": [
        "# import the r2_score function\n",
        "from sklearn.metrics import r2_score\n",
        "\n",
        "# Calculates the R sequared value\n",
        "r2 = r2_score(mortgage, model.predict(rates))\n",
        "# Print out the R sequared value\n",
        "print(\"R Squared: {0:.2f}\".format(r2))"
      ]
    },
    {
      "cell_type": "markdown",
      "metadata": {
        "id": "7_klypFgXjJM"
      },
      "source": [
        "Values of $R^2$ ranges from 0 (worst) to 1 (best). A score of 0.82 is very good performance for our model. This is not unexpected as the scatter plot already shown us that the variables are linearly related."
      ]
    },
    {
      "cell_type": "markdown",
      "metadata": {
        "id": "fDZQA7HXXjJN"
      },
      "source": [
        "## Exercise: Multiple Linear Regression\n",
        "\n",
        "In most real-world problems, we will need to deal with more than one input variables. In such cases, we can use a more generalized equation:\n",
        "\n",
        "$$y=β_0+β_1 x_1+β_2 x_2+⋯+β_nx_n$$\n",
        "Where $n$ is the number of input variables/predictors.\n",
        "\n",
        "Let us now extend the use of scikit-learn regression model from single to three input variables. We will be using a dataset containing insurance claims for a single medical treatment performed in a hospital. In addition to the claim amount (CLAIM), the data file also contains patient age (AGE), length of hospital stay (LOS) and a severity of illness category (ASG). The ASG field is based on several health measures and higher scores indicate greater severity of the illness.\n",
        "\n",
        "In this exercise, you are required to build a regression model that predicts the total claim amount for a patient based on his/her length of stay, severity of illness and patient age.\n",
        "Use the codes in the previous section and the following task list as a guide:\n",
        "\n",
        "1. Read the insurance_claim.csv file in the data folder\n",
        "2. Create a LinearRegression model.\n",
        "3. Train the model using the `fit()` function.\n",
        "4. Use the model to predict and print out a predicted claim value.\n",
        "5. Print out the regression equation.\n",
        "6. Print out *MSE* and $R^2$ value.\n",
        "\n",
        "The expected *MSE* and $R^2$ should be \\\\$4369.50 and 0.32 respectively."
      ]
    },
    {
      "cell_type": "code",
      "execution_count": null,
      "metadata": {
        "id": "I7rLES70XjJN"
      },
      "outputs": [],
      "source": [
        "# Enter your codes here\n",
        "\n"
      ]
    },
    {
      "cell_type": "markdown",
      "metadata": {
        "id": "VhgR4fqyXjJN",
        "raw_mimetype": "text/html",
        "tags": [
          "hidecode"
        ]
      },
      "source": [
        "\n",
        "<details>\n",
        "    <summary>Click here for answer</summary>\n",
        "\n",
        "```\n",
        "\n",
        "import numpy as np\n",
        "import pandas as pd\n",
        "from sklearn.linear_model import LinearRegression\n",
        "\n",
        "df = pd.read_csv(\"data/insurance_claim.csv\")\n",
        "X = df[['ASG','AGE','LOS']].values\n",
        "y = df['CLAIM'].values\n",
        "\n",
        "model = LinearRegression()\n",
        "model.fit(X, y)\n",
        "\n",
        "test_data = test_data = np.array([\n",
        "    [0, 26, 2]\n",
        "])\n",
        "\n",
        "predicted_claim = model.predict(test_data)[0]\n",
        "print(\"Predicted claim is: {0:.2f} \".format(predicted_claim))\n",
        "coeff = model.coef_\n",
        "print(\"Equation: {0:.2f} * ASG + {1:.2f} * AGE + {2:.2f} * LOS + {3:.2f}\".format(coeff[0], coeff[1], coeff[2], model.intercept_))\n",
        "r2 = r2_score(y, model.predict(X))\n",
        "print(\"R Squared: {0:.2f}\".format(r2))\n",
        "\n",
        "```\n",
        "\n",
        "</details>"
      ]
    },
    {
      "cell_type": "markdown",
      "metadata": {
        "id": "bc2KJp1iXjJO"
      },
      "source": [
        "#### Adjusted R2\n",
        "\n",
        "In some cases, $R^2$ does not provide the best evaluation measurement of the performance of our model. This is because $R^2$ measurement does not penalize the inclusion of useless input variables. In other words, the more input variables used in the model, the higher the score. This is not desireable as including input variables that does not contributes significantly to quality of the prediction adds costs for data collection as well as processing time.\n",
        "\n",
        "It is thus useful to use Adjusted $R^2$ defined as:\n",
        "\n",
        "$$Adjusted\\, R^2 = 1 - \\frac{(1-R^2)(n-1)}{n-p-1}$$\n",
        "\n",
        "Where $n$ = number of data samples in the data and $p$ = number of input variables\n",
        "As can be seen from the equation, as p increases, adjusted $R^2$ value decreases (the larger the value of $R^2$, the better the model)."
      ]
    },
    {
      "cell_type": "code",
      "execution_count": null,
      "metadata": {
        "id": "7eTXvzw7XjJO"
      },
      "outputs": [],
      "source": [
        "# Try it out, enter your codes here to calculate the Adjusted R2 value\n",
        "\n"
      ]
    },
    {
      "cell_type": "markdown",
      "metadata": {
        "id": "aezg5uQTysTb"
      },
      "source": [
        "<details><summary>Click here for answer</summary>\n",
        "\n",
        "```python\n",
        "\n",
        "X = df[['ASG','AGE','LOS']].values\n",
        "y = df['CLAIM'].values\n",
        "r2 = r2_score(y, model.predict(X))\n",
        "\n",
        "num_variables = X.shape[1]\n",
        "num_samples = X.shape[0]\n",
        "\n",
        "adjusted_r2 = 1 - ((1-r2) * (num_samples-1)) / (num_samples-num_variables-1)\n",
        "print(adjusted_r2)\n",
        "\n",
        "```\n",
        "</details>"
      ]
    },
    {
      "cell_type": "markdown",
      "metadata": {
        "id": "wKUV5_BzXjJO"
      },
      "source": [
        "If you run the codes, you should see that $R^2$ value is 0.32 while adjusted $R^2$ value is 0.31, showing that adjusted $R^2$ value is less as it takes into account the number of input variables used. Note also that $R^2$ and adjusted $R^2$ values will be very similar if the number of data samples is much larger then the number of input variables."
      ]
    }
  ],
  "metadata": {
    "colab": {
      "name": "2021 LinearRegression v1.0.ipynb",
      "provenance": [],
      "include_colab_link": true
    },
    "kernelspec": {
      "display_name": "Python 3 (ipykernel)",
      "language": "python",
      "name": "python3"
    },
    "language_info": {
      "codemirror_mode": {
        "name": "ipython",
        "version": 3
      },
      "file_extension": ".py",
      "mimetype": "text/x-python",
      "name": "python",
      "nbconvert_exporter": "python",
      "pygments_lexer": "ipython3",
      "version": "3.7.16"
    }
  },
  "nbformat": 4,
  "nbformat_minor": 0
}